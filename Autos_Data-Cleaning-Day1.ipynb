{
 "cells": [
  {
   "cell_type": "code",
   "execution_count": 3,
   "id": "ec7867b0",
   "metadata": {},
   "outputs": [],
   "source": [
    "# Intialization\n",
    "import os\n",
    "import sys\n",
    "\n",
    "os.environ[\"SPARK_HOME\"] = \"/home/talentum/spark\"\n",
    "os.environ[\"PYLIB\"] = os.environ[\"SPARK_HOME\"] + \"/python/lib\"\n",
    "# In below two lines, use /usr/bin/python2.7 if you want to use Python 2\n",
    "os.environ[\"PYSPARK_PYTHON\"] = \"/usr/bin/python3.6\" \n",
    "os.environ[\"PYSPARK_DRIVER_PYTHON\"] = \"/usr/bin/python3\"\n",
    "sys.path.insert(0, os.environ[\"PYLIB\"] +\"/py4j-0.10.7-src.zip\")\n",
    "sys.path.insert(0, os.environ[\"PYLIB\"] +\"/pyspark.zip\")\n",
    "\n",
    "# NOTE: Whichever package you want mention here.\n",
    "# os.environ['PYSPARK_SUBMIT_ARGS'] = '--packages com.databricks:spark-xml_2.11:0.6.0 pyspark-shell' \n",
    "# os.environ['PYSPARK_SUBMIT_ARGS'] = '--packages org.apache.spark:spark-avro_2.11:2.4.0 pyspark-shell'\n",
    "os.environ['PYSPARK_SUBMIT_ARGS'] = '--packages com.databricks:spark-xml_2.11:0.6.0,org.apache.spark:spark-avro_2.11:2.4.3 pyspark-shell'\n",
    "# os.environ['PYSPARK_SUBMIT_ARGS'] = '--packages com.databricks:spark-xml_2.11:0.6.0,org.apache.spark:spark-avro_2.11:2.4.0 pyspark-shell'pyspark-shell'"
   ]
  },
  {
   "cell_type": "code",
   "execution_count": 4,
   "id": "87b98923",
   "metadata": {},
   "outputs": [],
   "source": [
    "#Entrypoint 2.x\n",
    "from pyspark.sql import SparkSession\n",
    "spark = SparkSession.builder.appName(\"Spark SQL basic example\").enableHiveSupport().getOrCreate()\n",
    "\n",
    "# On yarn:\n",
    "# spark = SparkSession.builder.appName(\"Spark SQL basic example\").enableHiveSupport().master(\"yarn\").getOrCreate()\n",
    "# specify .master(\"yarn\")\n",
    "\n",
    "sc = spark.sparkContext"
   ]
  },
  {
   "cell_type": "code",
   "execution_count": 6,
   "id": "60dc581a",
   "metadata": {},
   "outputs": [],
   "source": [
    "df_csv = spark.read.csv(\"autos.csv\", header=True, inferSchema=True)"
   ]
  },
  {
   "cell_type": "code",
   "execution_count": 9,
   "id": "4881664f",
   "metadata": {},
   "outputs": [
    {
     "name": "stdout",
     "output_type": "stream",
     "text": [
      "root\n",
      " |-- index: string (nullable = true)\n",
      " |-- dateCrawled: string (nullable = true)\n",
      " |-- name: string (nullable = true)\n",
      " |-- seller: string (nullable = true)\n",
      " |-- offerType: string (nullable = true)\n",
      " |-- price: string (nullable = true)\n",
      " |-- abtest: string (nullable = true)\n",
      " |-- vehicleType: string (nullable = true)\n",
      " |-- yearOfRegistration: string (nullable = true)\n",
      " |-- gearbox: string (nullable = true)\n",
      " |-- powerPS: string (nullable = true)\n",
      " |-- model: string (nullable = true)\n",
      " |-- kilometer: integer (nullable = true)\n",
      " |-- monthOfRegistration: string (nullable = true)\n",
      " |-- fuelType: string (nullable = true)\n",
      " |-- brand: string (nullable = true)\n",
      " |-- notRepairedDamage: string (nullable = true)\n",
      " |-- dateCreated: string (nullable = true)\n",
      " |-- nrOfPictures: integer (nullable = true)\n",
      " |-- postalCode: string (nullable = true)\n",
      " |-- lastSeen: timestamp (nullable = true)\n",
      "\n"
     ]
    }
   ],
   "source": [
    "df_csv.printSchema()"
   ]
  },
  {
   "cell_type": "code",
   "execution_count": 10,
   "id": "7b4f7e2a",
   "metadata": {},
   "outputs": [
    {
     "data": {
      "text/plain": [
       "371824"
      ]
     },
     "execution_count": 10,
     "metadata": {},
     "output_type": "execute_result"
    }
   ],
   "source": [
    "df_csv.count()"
   ]
  },
  {
   "cell_type": "code",
   "execution_count": 11,
   "id": "761c000d",
   "metadata": {},
   "outputs": [
    {
     "data": {
      "text/plain": [
       "371824"
      ]
     },
     "execution_count": 11,
     "metadata": {},
     "output_type": "execute_result"
    }
   ],
   "source": [
    "df_csv_duplicates=df_csv.dropDuplicates()\n",
    "df_csv_duplicates.count()"
   ]
  },
  {
   "cell_type": "code",
   "execution_count": 15,
   "id": "3d7e2fbb",
   "metadata": {},
   "outputs": [
    {
     "data": {
      "text/plain": [
       "['index',\n",
       " 'dateCrawled',\n",
       " 'name',\n",
       " 'seller',\n",
       " 'offerType',\n",
       " 'price',\n",
       " 'abtest',\n",
       " 'vehicleType',\n",
       " 'yearOfRegistration',\n",
       " 'gearbox',\n",
       " 'powerPS',\n",
       " 'model',\n",
       " 'kilometer',\n",
       " 'monthOfRegistration',\n",
       " 'fuelType',\n",
       " 'brand',\n",
       " 'notRepairedDamage',\n",
       " 'dateCreated',\n",
       " 'nrOfPictures',\n",
       " 'postalCode',\n",
       " 'lastSeen']"
      ]
     },
     "execution_count": 15,
     "metadata": {},
     "output_type": "execute_result"
    }
   ],
   "source": [
    "df_csv.columns\n"
   ]
  },
  {
   "cell_type": "code",
   "execution_count": 18,
   "id": "27c9ed3b",
   "metadata": {},
   "outputs": [
    {
     "name": "stdout",
     "output_type": "stream",
     "text": [
      "+-------+------------------+\n",
      "|summary|             price|\n",
      "+-------+------------------+\n",
      "|  count|            371823|\n",
      "|   mean|17295.124087885943|\n",
      "| stddev|  3587958.57312194|\n",
      "|    min|                 0|\n",
      "|    max|              test|\n",
      "+-------+------------------+\n",
      "\n"
     ]
    }
   ],
   "source": [
    "df_csv.select('price').describe().show()"
   ]
  },
  {
   "cell_type": "code",
   "execution_count": 22,
   "id": "ce6256cf",
   "metadata": {},
   "outputs": [
    {
     "name": "stdout",
     "output_type": "stream",
     "text": [
      "+-----+-------------------+--------------------+------+---------+-----+-------+-----------+------------------+-------+-------+--------+---------+-------------------+--------+----------+-----------------+-------------------+------------+----------+-------------------+\n",
      "|index|        dateCrawled|                name|seller|offerType|price| abtest|vehicleType|yearOfRegistration|gearbox|powerPS|   model|kilometer|monthOfRegistration|fuelType|     brand|notRepairedDamage|        dateCreated|nrOfPictures|postalCode|           lastSeen|\n",
      "+-----+-------------------+--------------------+------+---------+-----+-------+-----------+------------------+-------+-------+--------+---------+-------------------+--------+----------+-----------------+-------------------+------------+----------+-------------------+\n",
      "|    0|2016-03-24 11:52:17|          Golf_3_1.6|privat|  Angebot|  480|   test|       null|              1993|manuell|      0|    golf|   150000|                  0|  benzin|volkswagen|             null|2016-03-24 00:00:00|           0|     70435|2016-04-07 03:16:57|\n",
      "|   16|2016-04-01 12:46:46|         Polo_6n_1_4|privat|  Angebot|  300|   test|       null|              2016|   null|     60|    polo|   150000|                  0|  benzin|volkswagen|             null|2016-04-01 00:00:00|           0|     38871|2016-04-01 12:46:46|\n",
      "|   22|2016-03-23 14:52:51|Opel_Meriva_1.Han...|privat|  Angebot| 2900|   test|       null|              2018|manuell|     90|  meriva|   150000|                  5|  benzin|      opel|             nein|2016-03-23 00:00:00|           0|     49716|2016-03-31 01:16:33|\n",
      "|   26|2016-03-10 19:38:18|Citroen_C4_Grand_...|privat|  Angebot| 5555|control|       null|              2017|manuell|    125|      c4|   125000|                  4|    null|   citroen|             nein|2016-03-10 00:00:00|           0|     31139|2016-03-16 09:16:46|\n",
      "|   31|2016-03-29 16:57:02|Renault_clio_1.2_...|privat|  Angebot|  899|control|       null|              2016|manuell|     60|    clio|   150000|                  6|  benzin|   renault|             null|2016-03-29 00:00:00|           0|     37075|2016-03-29 17:43:07|\n",
      "|   35|2016-03-08 07:54:46|           VW_Golf_3|privat|  Angebot|  350|   test|       null|              2016|manuell|     75|    golf|   150000|                  4|  benzin|volkswagen|             nein|2016-03-08 00:00:00|           0|     19386|2016-03-08 09:44:50|\n",
      "|   37|2016-03-28 17:50:15|Renault_Kangoo_1....|privat|  Angebot| 1500|   test|       null|              2016|   null|      0|  kangoo|   150000|                  1|  diesel|   renault|             nein|2016-03-28 00:00:00|           0|     46483|2016-03-30 09:18:02|\n",
      "|   40|2016-03-26 22:06:17|Suche_Opel_corsa_...|privat|  Angebot|    0|   test|       null|              1990|   null|      0|   corsa|   150000|                  1|  benzin|      opel|             null|2016-03-26 00:00:00|           0|     56412|2016-03-27 17:43:34|\n",
      "|   48|2016-03-25 14:40:12|VW_Golf_6___Klima...|privat|  Angebot| 7750|control|       null|              2017|manuell|     80|    golf|   100000|                  1|  benzin|volkswagen|             null|2016-03-25 00:00:00|           0|     48499|2016-03-31 21:47:44|\n",
      "|   51|2016-03-07 18:57:08|Fiat_punto_5_tuer...|privat|  Angebot| 2000|control|       null|              2017|manuell|     90|   punto|   150000|                 11|  diesel|      fiat|               ja|2016-03-07 00:00:00|           0|     66115|2016-03-07 18:57:08|\n",
      "|   52|2016-04-04 10:57:36|Verkaufe_meinen_k...|privat|  Angebot| 1400|control|       null|              2016|manuell|     55|  andere|     5000|                  1|    null|   hyundai|             null|2016-04-04 00:00:00|           0|     34454|2016-04-06 12:45:43|\n",
      "|   58|2016-03-10 20:53:19|Seat_inca_1.9SDI_...|privat|  Angebot| 2399|   test|       null|              2018|manuell|     64|  andere|   125000|                  3|    null|      seat|             nein|2016-03-10 00:00:00|           0|     33397|2016-03-25 10:17:37|\n",
      "|   66|2016-03-28 17:41:27|Opel_Astra_1.4_mi...|privat|  Angebot|10900|   test|       null|              2017|manuell|    101|   astra|    50000|                  3|    null|      opel|             nein|2016-03-28 00:00:00|           0|     63607|2016-04-06 23:15:52|\n",
      "|   72|2016-03-07 08:55:18|        BMW_520i_E39|privat|  Angebot| 2300|control|       null|              1997|manuell|    150|     5er|   150000|                  3|    null|       bmw|             nein|2016-03-07 00:00:00|           0|     79341|2016-03-22 05:15:22|\n",
      "|   78|2016-03-31 22:48:06|Golf_4_TDi_1_9.__...|privat|  Angebot|  800|   test|       null|              2000|manuell|     90|    golf|   150000|                  2|  diesel|volkswagen|             null|2016-03-31 00:00:00|           0|     32584|2016-04-06 19:15:22|\n",
      "|   81|2016-03-17 18:52:56| Opel_Astra_F_Cabrio|privat|  Angebot|  150|control|       null|              2016|manuell|     75|   astra|   150000|                  3|  benzin|      opel|               ja|2016-03-17 00:00:00|           0|     78315|2016-04-05 03:45:22|\n",
      "|   94|2016-03-16 07:56:19|FORD_KA___TÜV_ABG...|privat|  Angebot|  250|control|       null|              2000|   null|     60|      ka|   150000|                  0|    null|      ford|             null|2016-03-16 00:00:00|           0|     51427|2016-03-21 09:47:08|\n",
      "|   96|2016-03-28 16:37:43|unfall_Opel_insig...|privat|  Angebot| 8390|   test|       null|              2009|   null|      0|insignia|   150000|                  0|    null|      opel|             null|2016-03-28 00:00:00|           0|     29221|2016-03-30 07:44:59|\n",
      "|  111|2016-03-16 23:25:21|     Honda_Civic_EG4|privat|  Angebot|  900|   test|       null|              1995|manuell|     90|   civic|   150000|                  3|  benzin|     honda|             null|2016-03-16 00:00:00|           0|     35789|2016-03-19 17:19:00|\n",
      "|  115|2016-03-19 18:40:12|     Golf_IV_1.4_16V|privat|  Angebot|    0|   test|       null|              2017|manuell|      0|    golf|     5000|                 12|  benzin|volkswagen|             null|2016-03-19 00:00:00|           0|     21698|2016-04-01 08:47:05|\n",
      "+-----+-------------------+--------------------+------+---------+-----+-------+-----------+------------------+-------+-------+--------+---------+-------------------+--------+----------+-----------------+-------------------+------------+----------+-------------------+\n",
      "only showing top 20 rows\n",
      "\n"
     ]
    }
   ],
   "source": [
    "df_csv.filter(\"vehicleType is NULL\").show()"
   ]
  },
  {
   "cell_type": "code",
   "execution_count": 24,
   "id": "c9bd743b",
   "metadata": {},
   "outputs": [],
   "source": [
    "df_csv=df_csv.drop('nrOfPictures','seller','lastSeen','dateCreated')"
   ]
  },
  {
   "cell_type": "code",
   "execution_count": 25,
   "id": "16ac01de",
   "metadata": {},
   "outputs": [
    {
     "data": {
      "text/plain": [
       "['index',\n",
       " 'dateCrawled',\n",
       " 'name',\n",
       " 'offerType',\n",
       " 'price',\n",
       " 'abtest',\n",
       " 'vehicleType',\n",
       " 'yearOfRegistration',\n",
       " 'gearbox',\n",
       " 'powerPS',\n",
       " 'model',\n",
       " 'kilometer',\n",
       " 'monthOfRegistration',\n",
       " 'fuelType',\n",
       " 'brand',\n",
       " 'notRepairedDamage',\n",
       " 'postalCode']"
      ]
     },
     "execution_count": 25,
     "metadata": {},
     "output_type": "execute_result"
    }
   ],
   "source": [
    "df_csv.columns"
   ]
  },
  {
   "cell_type": "code",
   "execution_count": 29,
   "id": "91dff2cd",
   "metadata": {},
   "outputs": [
    {
     "name": "stdout",
     "output_type": "stream",
     "text": [
      "+-------------+\n",
      "|        brand|\n",
      "+-------------+\n",
      "|       jaguar|\n",
      "|         nein|\n",
      "|     daihatsu|\n",
      "|   mitsubishi|\n",
      "|         null|\n",
      "|         lada|\n",
      "|       toyota|\n",
      "|         seat|\n",
      "|         saab|\n",
      "|   land_rover|\n",
      "|      peugeot|\n",
      "|     chrysler|\n",
      "|      citroen|\n",
      "|         audi|\n",
      "|mercedes_benz|\n",
      "|          bmw|\n",
      "|         jeep|\n",
      "|       lancia|\n",
      "|        skoda|\n",
      "|        rover|\n",
      "+-------------+\n",
      "only showing top 20 rows\n",
      "\n"
     ]
    }
   ],
   "source": [
    "df_csv.select('brand').distinct().show()"
   ]
  },
  {
   "cell_type": "code",
   "execution_count": 30,
   "id": "224a0dbe",
   "metadata": {},
   "outputs": [],
   "source": [
    "from pyspark.sql.functions import to_timestamp"
   ]
  },
  {
   "cell_type": "code",
   "execution_count": 33,
   "id": "b1be011b",
   "metadata": {},
   "outputs": [],
   "source": [
    "df_csv = df_csv.withColumn('dateCrawled', to_timestamp(df_csv[\"dateCrawled\"], \"yyyy-MM-dd HH:mm:ss\"))\n"
   ]
  },
  {
   "cell_type": "code",
   "execution_count": 35,
   "id": "35685b32",
   "metadata": {},
   "outputs": [
    {
     "name": "stdout",
     "output_type": "stream",
     "text": [
      "root\n",
      " |-- index: string (nullable = true)\n",
      " |-- dateCrawled: timestamp (nullable = true)\n",
      " |-- name: string (nullable = true)\n",
      " |-- offerType: string (nullable = true)\n",
      " |-- price: string (nullable = true)\n",
      " |-- abtest: string (nullable = true)\n",
      " |-- vehicleType: string (nullable = true)\n",
      " |-- yearOfRegistration: string (nullable = true)\n",
      " |-- gearbox: string (nullable = true)\n",
      " |-- powerPS: string (nullable = true)\n",
      " |-- model: string (nullable = true)\n",
      " |-- kilometer: integer (nullable = true)\n",
      " |-- monthOfRegistration: string (nullable = true)\n",
      " |-- fuelType: string (nullable = true)\n",
      " |-- brand: string (nullable = true)\n",
      " |-- notRepairedDamage: string (nullable = true)\n",
      " |-- postalCode: string (nullable = true)\n",
      "\n"
     ]
    }
   ],
   "source": [
    "df_csv.printSchema()"
   ]
  },
  {
   "cell_type": "code",
   "execution_count": 37,
   "id": "e0ceefaa",
   "metadata": {},
   "outputs": [
    {
     "name": "stdout",
     "output_type": "stream",
     "text": [
      "+-------------------+\n",
      "|        dateCrawled|\n",
      "+-------------------+\n",
      "|2016-03-24 11:52:17|\n",
      "|2016-03-24 10:58:45|\n",
      "|2016-03-14 12:52:21|\n",
      "|2016-03-17 16:54:04|\n",
      "|2016-03-31 17:25:20|\n",
      "+-------------------+\n",
      "only showing top 5 rows\n",
      "\n"
     ]
    }
   ],
   "source": [
    "df_csv.select('dateCrawled').show(5)"
   ]
  },
  {
   "cell_type": "code",
   "execution_count": 38,
   "id": "8184bae9",
   "metadata": {},
   "outputs": [],
   "source": [
    "from pyspark.sql.functions import to_timestamp, year\n",
    "df_csv = df_csv.withColumn(\"dateCrawled\", year(df_csv[\"dateCrawled\"]))"
   ]
  },
  {
   "cell_type": "code",
   "execution_count": 39,
   "id": "a761b72b",
   "metadata": {},
   "outputs": [
    {
     "name": "stdout",
     "output_type": "stream",
     "text": [
      "+-----------+\n",
      "|dateCrawled|\n",
      "+-----------+\n",
      "|       2016|\n",
      "|       2016|\n",
      "|       2016|\n",
      "|       2016|\n",
      "|       2016|\n",
      "+-----------+\n",
      "only showing top 5 rows\n",
      "\n"
     ]
    }
   ],
   "source": [
    "df_csv.select('dateCrawled').show(5)"
   ]
  },
  {
   "cell_type": "code",
   "execution_count": 40,
   "id": "d15de65c",
   "metadata": {},
   "outputs": [
    {
     "name": "stdout",
     "output_type": "stream",
     "text": [
      "root\n",
      " |-- index: string (nullable = true)\n",
      " |-- dateCrawled: integer (nullable = true)\n",
      " |-- name: string (nullable = true)\n",
      " |-- offerType: string (nullable = true)\n",
      " |-- price: string (nullable = true)\n",
      " |-- abtest: string (nullable = true)\n",
      " |-- vehicleType: string (nullable = true)\n",
      " |-- yearOfRegistration: string (nullable = true)\n",
      " |-- gearbox: string (nullable = true)\n",
      " |-- powerPS: string (nullable = true)\n",
      " |-- model: string (nullable = true)\n",
      " |-- kilometer: integer (nullable = true)\n",
      " |-- monthOfRegistration: string (nullable = true)\n",
      " |-- fuelType: string (nullable = true)\n",
      " |-- brand: string (nullable = true)\n",
      " |-- notRepairedDamage: string (nullable = true)\n",
      " |-- postalCode: string (nullable = true)\n",
      "\n"
     ]
    }
   ],
   "source": [
    "df_csv.printSchema()"
   ]
  },
  {
   "cell_type": "code",
   "execution_count": 42,
   "id": "61b2c143",
   "metadata": {},
   "outputs": [
    {
     "name": "stdout",
     "output_type": "stream",
     "text": [
      "+------------------+\n",
      "|yearOfRegistration|\n",
      "+------------------+\n",
      "|              1993|\n",
      "|              2011|\n",
      "|              2004|\n",
      "|              2001|\n",
      "|              2008|\n",
      "|              1995|\n",
      "|              2004|\n",
      "|              1980|\n",
      "|              2014|\n",
      "|              1998|\n",
      "+------------------+\n",
      "only showing top 10 rows\n",
      "\n"
     ]
    }
   ],
   "source": [
    "df_csv.select('yearOfRegistration').show(10)"
   ]
  },
  {
   "cell_type": "code",
   "execution_count": 46,
   "id": "218b5514",
   "metadata": {},
   "outputs": [],
   "source": [
    "from pyspark.sql.functions import col, when\n",
    "df_csv = df_csv.withColumn('yearOfRegistration', col('yearOfRegistration').cast(\"int\"))"
   ]
  },
  {
   "cell_type": "code",
   "execution_count": 47,
   "id": "a91fce41",
   "metadata": {},
   "outputs": [
    {
     "name": "stdout",
     "output_type": "stream",
     "text": [
      "root\n",
      " |-- index: string (nullable = true)\n",
      " |-- dateCrawled: integer (nullable = true)\n",
      " |-- name: string (nullable = true)\n",
      " |-- offerType: string (nullable = true)\n",
      " |-- price: string (nullable = true)\n",
      " |-- abtest: string (nullable = true)\n",
      " |-- vehicleType: string (nullable = true)\n",
      " |-- yearOfRegistration: integer (nullable = true)\n",
      " |-- gearbox: string (nullable = true)\n",
      " |-- powerPS: string (nullable = true)\n",
      " |-- model: string (nullable = true)\n",
      " |-- kilometer: integer (nullable = true)\n",
      " |-- monthOfRegistration: string (nullable = true)\n",
      " |-- fuelType: string (nullable = true)\n",
      " |-- brand: string (nullable = true)\n",
      " |-- notRepairedDamage: string (nullable = true)\n",
      " |-- postalCode: string (nullable = true)\n",
      "\n"
     ]
    }
   ],
   "source": [
    "df_csv.printSchema()"
   ]
  },
  {
   "cell_type": "code",
   "execution_count": 48,
   "id": "82c2d350",
   "metadata": {},
   "outputs": [],
   "source": [
    "df_csv = df_csv.withColumn('Price', col('Price').cast(\"float\"))"
   ]
  },
  {
   "cell_type": "code",
   "execution_count": 49,
   "id": "9833e42d",
   "metadata": {},
   "outputs": [
    {
     "name": "stdout",
     "output_type": "stream",
     "text": [
      "root\n",
      " |-- index: string (nullable = true)\n",
      " |-- dateCrawled: integer (nullable = true)\n",
      " |-- name: string (nullable = true)\n",
      " |-- offerType: string (nullable = true)\n",
      " |-- Price: float (nullable = true)\n",
      " |-- abtest: string (nullable = true)\n",
      " |-- vehicleType: string (nullable = true)\n",
      " |-- yearOfRegistration: integer (nullable = true)\n",
      " |-- gearbox: string (nullable = true)\n",
      " |-- powerPS: string (nullable = true)\n",
      " |-- model: string (nullable = true)\n",
      " |-- kilometer: integer (nullable = true)\n",
      " |-- monthOfRegistration: string (nullable = true)\n",
      " |-- fuelType: string (nullable = true)\n",
      " |-- brand: string (nullable = true)\n",
      " |-- notRepairedDamage: string (nullable = true)\n",
      " |-- postalCode: string (nullable = true)\n",
      "\n"
     ]
    }
   ],
   "source": [
    "df_csv.printSchema()"
   ]
  },
  {
   "cell_type": "code",
   "execution_count": 50,
   "id": "3796afd5",
   "metadata": {},
   "outputs": [],
   "source": [
    "df_csv = df_csv.withColumn('monthOfRegistration', col('monthOfRegistration').cast(\"int\"))"
   ]
  },
  {
   "cell_type": "code",
   "execution_count": 57,
   "id": "5fc5c0e1",
   "metadata": {},
   "outputs": [
    {
     "name": "stdout",
     "output_type": "stream",
     "text": [
      "root\n",
      " |-- index: string (nullable = true)\n",
      " |-- dateCrawled: integer (nullable = true)\n",
      " |-- name: string (nullable = true)\n",
      " |-- offerType: string (nullable = true)\n",
      " |-- Price: float (nullable = true)\n",
      " |-- abtest: string (nullable = true)\n",
      " |-- vehicleType: string (nullable = true)\n",
      " |-- yearOfRegistration: integer (nullable = true)\n",
      " |-- gearbox: string (nullable = true)\n",
      " |-- powerPS: string (nullable = true)\n",
      " |-- model: string (nullable = true)\n",
      " |-- kilometer: integer (nullable = true)\n",
      " |-- monthOfRegistration: integer (nullable = true)\n",
      " |-- fuelType: string (nullable = true)\n",
      " |-- brand: string (nullable = true)\n",
      " |-- notRepairedDamage: string (nullable = true)\n",
      " |-- postalCode: string (nullable = true)\n",
      "\n"
     ]
    }
   ],
   "source": [
    "df_csv.printSchema()"
   ]
  },
  {
   "cell_type": "code",
   "execution_count": 58,
   "id": "46658560",
   "metadata": {},
   "outputs": [
    {
     "name": "stdout",
     "output_type": "stream",
     "text": [
      "Correlation between value2 and value3: -0.0028176063434703284\n"
     ]
    }
   ],
   "source": [
    "correlation_value2_value3 = df_csv.stat.corr(\"monthOfRegistration\", \"Price\")\n",
    "print(f\"Correlation between value2 and value3: {correlation_value2_value3}\")"
   ]
  },
  {
   "cell_type": "code",
   "execution_count": 59,
   "id": "1adca635",
   "metadata": {},
   "outputs": [
    {
     "name": "stdout",
     "output_type": "stream",
     "text": [
      "Correlation between value2 and value3: 0.00013600453977892399\n"
     ]
    }
   ],
   "source": [
    "correlation_value2_value3 = df_csv.stat.corr(\"dateCrawled\", \"Price\")\n",
    "print(f\"Correlation between value2 and value3: {correlation_value2_value3}\")"
   ]
  },
  {
   "cell_type": "code",
   "execution_count": 63,
   "id": "e806cbed",
   "metadata": {},
   "outputs": [
    {
     "name": "stdout",
     "output_type": "stream",
     "text": [
      "+-------------------+\n",
      "|monthOfRegistration|\n",
      "+-------------------+\n",
      "|                 12|\n",
      "|               null|\n",
      "|                  1|\n",
      "|                  6|\n",
      "|                  3|\n",
      "|                  5|\n",
      "|                  9|\n",
      "|                  4|\n",
      "|                  8|\n",
      "|                  7|\n",
      "|                 10|\n",
      "|                 11|\n",
      "|                  2|\n",
      "|                  0|\n",
      "+-------------------+\n",
      "\n"
     ]
    }
   ],
   "source": [
    "df_csv.select(\"monthOfRegistration\").distinct().show()"
   ]
  },
  {
   "cell_type": "code",
   "execution_count": 64,
   "id": "db8e3be9",
   "metadata": {},
   "outputs": [],
   "source": [
    "df_csv=df_csv.drop('offerType')"
   ]
  },
  {
   "cell_type": "code",
   "execution_count": 65,
   "id": "df57af83",
   "metadata": {},
   "outputs": [
    {
     "data": {
      "text/plain": [
       "['index',\n",
       " 'dateCrawled',\n",
       " 'name',\n",
       " 'Price',\n",
       " 'abtest',\n",
       " 'vehicleType',\n",
       " 'yearOfRegistration',\n",
       " 'gearbox',\n",
       " 'powerPS',\n",
       " 'model',\n",
       " 'kilometer',\n",
       " 'monthOfRegistration',\n",
       " 'fuelType',\n",
       " 'brand',\n",
       " 'notRepairedDamage',\n",
       " 'postalCode']"
      ]
     },
     "execution_count": 65,
     "metadata": {},
     "output_type": "execute_result"
    }
   ],
   "source": [
    "df_csv.columns"
   ]
  },
  {
   "cell_type": "code",
   "execution_count": 68,
   "id": "c6aedbe8",
   "metadata": {},
   "outputs": [
    {
     "name": "stdout",
     "output_type": "stream",
     "text": [
      "10779\n"
     ]
    }
   ],
   "source": [
    "zero_count = df_csv.filter(col(\"Price\") == 0).count()\n",
    "print(zero_count)"
   ]
  },
  {
   "cell_type": "code",
   "execution_count": 69,
   "id": "3b21073c",
   "metadata": {},
   "outputs": [
    {
     "data": {
      "text/plain": [
       "['index',\n",
       " 'dateCrawled',\n",
       " 'name',\n",
       " 'Price',\n",
       " 'abtest',\n",
       " 'vehicleType',\n",
       " 'yearOfRegistration',\n",
       " 'gearbox',\n",
       " 'powerPS',\n",
       " 'model',\n",
       " 'kilometer',\n",
       " 'monthOfRegistration',\n",
       " 'fuelType',\n",
       " 'brand',\n",
       " 'notRepairedDamage',\n",
       " 'postalCode']"
      ]
     },
     "execution_count": 69,
     "metadata": {},
     "output_type": "execute_result"
    }
   ],
   "source": [
    "df_csv.columns"
   ]
  },
  {
   "cell_type": "code",
   "execution_count": 103,
   "id": "525404a1",
   "metadata": {},
   "outputs": [
    {
     "name": "stdout",
     "output_type": "stream",
     "text": [
      "+-------------------+---------+\n",
      "|             Column|NullCount|\n",
      "+-------------------+---------+\n",
      "|              index|        0|\n",
      "|        dateCrawled|      296|\n",
      "|               name|        0|\n",
      "|              Price|      297|\n",
      "|             abtest|       30|\n",
      "|        vehicleType|    37871|\n",
      "| yearOfRegistration|      297|\n",
      "|            gearbox|    20211|\n",
      "|            powerPS|       15|\n",
      "|              model|    20485|\n",
      "|          kilometer|        1|\n",
      "|monthOfRegistration|      297|\n",
      "|           fuelType|    33388|\n",
      "|              brand|       64|\n",
      "|  notRepairedDamage|    72061|\n",
      "|         postalCode|        1|\n",
      "+-------------------+---------+\n",
      "\n"
     ]
    }
   ],
   "source": [
    "from pyspark.sql.functions import col, sum\n",
    "df=df_csv\n",
    "# Get the list of columns\n",
    "columns = df.columns\n",
    "\n",
    "# Create a dictionary to store the null count for each column\n",
    "null_counts = {col_name: df.filter(col(col_name).isNull()).count() for col_name in columns}\n",
    "\n",
    "# Convert the dictionary to a DataFrame for better display\n",
    "null_counts_df = spark.createDataFrame([(k, v) for k, v in null_counts.items()], [\"Column\", \"NullCount\"])\n",
    "\n",
    "# Show the null counts\n",
    "null_counts_df.show()"
   ]
  },
  {
   "cell_type": "code",
   "execution_count": 76,
   "id": "f1e7a484",
   "metadata": {},
   "outputs": [
    {
     "name": "stdout",
     "output_type": "stream",
     "text": [
      "+-------+------------------+\n",
      "|summary|             Price|\n",
      "+-------+------------------+\n",
      "|  count|            371527|\n",
      "|   mean|17295.124128259857|\n",
      "| stddev|3587958.5758335786|\n",
      "|    min|               0.0|\n",
      "|    max|      2.14748365E9|\n",
      "+-------+------------------+\n",
      "\n"
     ]
    }
   ],
   "source": [
    "df.select('Price').describe().show()"
   ]
  },
  {
   "cell_type": "code",
   "execution_count": 94,
   "id": "56df7762",
   "metadata": {},
   "outputs": [
    {
     "name": "stdout",
     "output_type": "stream",
     "text": [
      "5th percentile: 250.0\n",
      "95th percentile: 19500.0\n"
     ]
    }
   ],
   "source": [
    "# Calculate the 5th and 95th percentiles\n",
    "quantiles = df.approxQuantile(\"price\", [0.05, 0.95], 0.01)\n",
    "\n",
    "# Extract the 5th and 95th percentiles\n",
    "quantile_05 = quantiles[0]\n",
    "quantile_95 = quantiles[1]\n",
    "\n",
    "print(f\"5th percentile: {quantile_05}\")\n",
    "print(f\"95th percentile: {quantile_95}\")"
   ]
  },
  {
   "cell_type": "code",
   "execution_count": 104,
   "id": "f5ad24a0",
   "metadata": {},
   "outputs": [],
   "source": [
    "df_copy=df_csv"
   ]
  },
  {
   "cell_type": "code",
   "execution_count": 105,
   "id": "79c489ca",
   "metadata": {},
   "outputs": [],
   "source": [
    "df_copy = df_copy.filter(col(\"price\") != 0)\n"
   ]
  },
  {
   "cell_type": "code",
   "execution_count": 106,
   "id": "3560e315",
   "metadata": {},
   "outputs": [
    {
     "name": "stdout",
     "output_type": "stream",
     "text": [
      "+-------------------+---------+\n",
      "|             Column|NullCount|\n",
      "+-------------------+---------+\n",
      "|              index|        0|\n",
      "|        dateCrawled|        0|\n",
      "|               name|        0|\n",
      "|              Price|        0|\n",
      "|             abtest|        0|\n",
      "|        vehicleType|    34127|\n",
      "| yearOfRegistration|        0|\n",
      "|            gearbox|    17729|\n",
      "|            powerPS|        0|\n",
      "|              model|    18300|\n",
      "|          kilometer|        0|\n",
      "|monthOfRegistration|        0|\n",
      "|           fuelType|    29948|\n",
      "|              brand|        0|\n",
      "|  notRepairedDamage|    66769|\n",
      "|         postalCode|        0|\n",
      "+-------------------+---------+\n",
      "\n"
     ]
    }
   ],
   "source": [
    "\n",
    "df=df_copy\n",
    "# Get the list of columns\n",
    "columns = df.columns\n",
    "\n",
    "# Create a dictionary to store the null count for each column\n",
    "null_counts = {col_name: df.filter(col(col_name).isNull()).count() for col_name in columns}\n",
    "\n",
    "# Convert the dictionary to a DataFrame for better display\n",
    "null_counts_df = spark.createDataFrame([(k, v) for k, v in null_counts.items()], [\"Column\", \"NullCount\"])\n",
    "\n",
    "# Show the null counts\n",
    "null_counts_df.show()"
   ]
  },
  {
   "cell_type": "code",
   "execution_count": 107,
   "id": "c5a74876",
   "metadata": {},
   "outputs": [],
   "source": [
    "most_common_row = df_copy.groupBy(\"vehicleType\").count().orderBy(col(\"count\").desc()).first()\n",
    "most_common = most_common_row[\"vehicleType\"]\n",
    "df_VehicleCopy = df_copy.fillna({\"vehicleType\": most_common})"
   ]
  },
  {
   "cell_type": "code",
   "execution_count": 108,
   "id": "88f6490f",
   "metadata": {},
   "outputs": [
    {
     "name": "stdout",
     "output_type": "stream",
     "text": [
      "+-------------------+---------+\n",
      "|             Column|NullCount|\n",
      "+-------------------+---------+\n",
      "|              index|        0|\n",
      "|        dateCrawled|        0|\n",
      "|               name|        0|\n",
      "|              Price|        0|\n",
      "|             abtest|        0|\n",
      "|        vehicleType|        0|\n",
      "| yearOfRegistration|        0|\n",
      "|            gearbox|    17729|\n",
      "|            powerPS|        0|\n",
      "|              model|    18300|\n",
      "|          kilometer|        0|\n",
      "|monthOfRegistration|        0|\n",
      "|           fuelType|    29948|\n",
      "|              brand|        0|\n",
      "|  notRepairedDamage|    66769|\n",
      "|         postalCode|        0|\n",
      "+-------------------+---------+\n",
      "\n"
     ]
    }
   ],
   "source": [
    "df=df_VehicleCopy\n",
    "# Get the list of columns\n",
    "columns = df.columns\n",
    "\n",
    "# Create a dictionary to store the null count for each column\n",
    "null_counts = {col_name: df.filter(col(col_name).isNull()).count() for col_name in columns}\n",
    "\n",
    "# Convert the dictionary to a DataFrame for better display\n",
    "null_counts_df = spark.createDataFrame([(k, v) for k, v in null_counts.items()], [\"Column\", \"NullCount\"])\n",
    "\n",
    "# Show the null counts\n",
    "null_counts_df.show()"
   ]
  },
  {
   "cell_type": "code",
   "execution_count": 110,
   "id": "aa383aad",
   "metadata": {},
   "outputs": [
    {
     "name": "stdout",
     "output_type": "stream",
     "text": [
      "+-----------+------+\n",
      "|vehicleType| count|\n",
      "+-----------+------+\n",
      "|  limousine|127969|\n",
      "| kleinwagen| 78209|\n",
      "|      kombi| 66098|\n",
      "|        bus| 29769|\n",
      "|     cabrio| 22560|\n",
      "|      coupe| 18487|\n",
      "|        suv| 14501|\n",
      "|     andere|  3155|\n",
      "+-----------+------+\n",
      "\n"
     ]
    }
   ],
   "source": [
    "value_counts = df_VehicleCopy.groupBy(\"vehicleType\").count()\n",
    "\n",
    "# Step 2: Sort by count in descending order\n",
    "sorted_value_counts = value_counts.orderBy(col(\"count\").desc())\n",
    "sorted_value_counts.show()"
   ]
  },
  {
   "cell_type": "code",
   "execution_count": 111,
   "id": "edaf2394",
   "metadata": {},
   "outputs": [],
   "source": [
    "most_common_row =df_VehicleCopy.groupBy(\"gearbox\").count().orderBy(col(\"count\").desc()).first()\n",
    "most_common = most_common_row[\"gearbox\"]\n",
    "\n",
    "# Step 2: Replace missing values in 'gearbox' column with the most common value\n",
    "df_VehicleCopy = df_VehicleCopy.fillna({\"gearbox\": most_common})"
   ]
  },
  {
   "cell_type": "code",
   "execution_count": 112,
   "id": "321d08e9",
   "metadata": {},
   "outputs": [
    {
     "name": "stdout",
     "output_type": "stream",
     "text": [
      "+-------------------+---------+\n",
      "|             Column|NullCount|\n",
      "+-------------------+---------+\n",
      "|              index|        0|\n",
      "|        dateCrawled|        0|\n",
      "|               name|        0|\n",
      "|              Price|        0|\n",
      "|             abtest|        0|\n",
      "|        vehicleType|        0|\n",
      "| yearOfRegistration|        0|\n",
      "|            gearbox|        0|\n",
      "|            powerPS|        0|\n",
      "|              model|    18300|\n",
      "|          kilometer|        0|\n",
      "|monthOfRegistration|        0|\n",
      "|           fuelType|    29948|\n",
      "|              brand|        0|\n",
      "|  notRepairedDamage|    66769|\n",
      "|         postalCode|        0|\n",
      "+-------------------+---------+\n",
      "\n"
     ]
    }
   ],
   "source": [
    "df=df_VehicleCopy\n",
    "# Get the list of columns\n",
    "columns = df.columns\n",
    "\n",
    "# Create a dictionary to store the null count for each column\n",
    "null_counts = {col_name: df.filter(col(col_name).isNull()).count() for col_name in columns}\n",
    "\n",
    "# Convert the dictionary to a DataFrame for better display\n",
    "null_counts_df = spark.createDataFrame([(k, v) for k, v in null_counts.items()], [\"Column\", \"NullCount\"])\n",
    "\n",
    "# Show the null counts\n",
    "null_counts_df.show()"
   ]
  },
  {
   "cell_type": "code",
   "execution_count": 113,
   "id": "2d55090f",
   "metadata": {},
   "outputs": [],
   "source": [
    "most_common_row =df_VehicleCopy.groupBy(\"fuelType\").count().orderBy(col(\"count\").desc()).first()\n",
    "most_common = most_common_row[\"fuelType\"]\n",
    "\n",
    "# Step 2: Replace missing values in 'gearbox' column with the most common value\n",
    "df_VehicleCopy = df_VehicleCopy.fillna({\"fuelType\": most_common})"
   ]
  },
  {
   "cell_type": "code",
   "execution_count": 115,
   "id": "966cb2e0",
   "metadata": {},
   "outputs": [
    {
     "name": "stdout",
     "output_type": "stream",
     "text": [
      "+-------------------+---------+\n",
      "|             Column|NullCount|\n",
      "+-------------------+---------+\n",
      "|              index|        0|\n",
      "|        dateCrawled|        0|\n",
      "|               name|        0|\n",
      "|              Price|        0|\n",
      "|             abtest|        0|\n",
      "|        vehicleType|        0|\n",
      "| yearOfRegistration|        0|\n",
      "|            gearbox|        0|\n",
      "|            powerPS|        0|\n",
      "|              model|    18300|\n",
      "|          kilometer|        0|\n",
      "|monthOfRegistration|        0|\n",
      "|           fuelType|        0|\n",
      "|              brand|        0|\n",
      "|  notRepairedDamage|    66769|\n",
      "|         postalCode|        0|\n",
      "+-------------------+---------+\n",
      "\n"
     ]
    }
   ],
   "source": [
    "df=df_VehicleCopy\n",
    "# Get the list of columns\n",
    "columns = df.columns\n",
    "\n",
    "# Create a dictionary to store the null count for each column\n",
    "null_counts = {col_name: df.filter(col(col_name).isNull()).count() for col_name in columns}\n",
    "\n",
    "# Convert the dictionary to a DataFrame for better display\n",
    "null_counts_df = spark.createDataFrame([(k, v) for k, v in null_counts.items()], [\"Column\", \"NullCount\"])\n",
    "\n",
    "# Show the null counts\n",
    "null_counts_df.show()"
   ]
  },
  {
   "cell_type": "code",
   "execution_count": 116,
   "id": "09aa50c1",
   "metadata": {},
   "outputs": [],
   "source": [
    "most_common_row =df_VehicleCopy.groupBy(\"notRepairedDamage\").count().orderBy(col(\"count\").desc()).first()\n",
    "most_common = most_common_row[\"notRepairedDamage\"]\n",
    "\n",
    "# Step 2: Replace missing values in 'gearbox' column with the most common value\n",
    "df_VehicleCopy = df_VehicleCopy.fillna({\"notRepairedDamage\": most_common})"
   ]
  },
  {
   "cell_type": "code",
   "execution_count": 117,
   "id": "dfae1626",
   "metadata": {},
   "outputs": [
    {
     "name": "stdout",
     "output_type": "stream",
     "text": [
      "+-------------------+---------+\n",
      "|             Column|NullCount|\n",
      "+-------------------+---------+\n",
      "|              index|        0|\n",
      "|        dateCrawled|        0|\n",
      "|               name|        0|\n",
      "|              Price|        0|\n",
      "|             abtest|        0|\n",
      "|        vehicleType|        0|\n",
      "| yearOfRegistration|        0|\n",
      "|            gearbox|        0|\n",
      "|            powerPS|        0|\n",
      "|              model|    18300|\n",
      "|          kilometer|        0|\n",
      "|monthOfRegistration|        0|\n",
      "|           fuelType|        0|\n",
      "|              brand|        0|\n",
      "|  notRepairedDamage|        0|\n",
      "|         postalCode|        0|\n",
      "+-------------------+---------+\n",
      "\n"
     ]
    }
   ],
   "source": [
    "df=df_VehicleCopy\n",
    "# Get the list of columns\n",
    "columns = df.columns\n",
    "\n",
    "# Create a dictionary to store the null count for each column\n",
    "null_counts = {col_name: df.filter(col(col_name).isNull()).count() for col_name in columns}\n",
    "\n",
    "# Convert the dictionary to a DataFrame for better display\n",
    "null_counts_df = spark.createDataFrame([(k, v) for k, v in null_counts.items()], [\"Column\", \"NullCount\"])\n",
    "\n",
    "# Show the null counts\n",
    "null_counts_df.show()"
   ]
  },
  {
   "cell_type": "code",
   "execution_count": 121,
   "id": "9d73be87",
   "metadata": {},
   "outputs": [
    {
     "data": {
      "text/plain": [
       "['index',\n",
       " 'dateCrawled',\n",
       " 'name',\n",
       " 'Price',\n",
       " 'abtest',\n",
       " 'vehicleType',\n",
       " 'yearOfRegistration',\n",
       " 'gearbox',\n",
       " 'powerPS',\n",
       " 'model',\n",
       " 'kilometer',\n",
       " 'monthOfRegistration',\n",
       " 'fuelType',\n",
       " 'brand',\n",
       " 'notRepairedDamage',\n",
       " 'postalCode']"
      ]
     },
     "execution_count": 121,
     "metadata": {},
     "output_type": "execute_result"
    }
   ],
   "source": [
    "df_VehicleCopy.columns"
   ]
  },
  {
   "cell_type": "code",
   "execution_count": 123,
   "id": "163437bd",
   "metadata": {},
   "outputs": [],
   "source": [
    "#df = spark.createDataFrame(df_VehicleCopy, df_VehicleCopy.columns)\n",
    "pandas_df = df_VehicleCopy.toPandas()"
   ]
  },
  {
   "cell_type": "code",
   "execution_count": 127,
   "id": "38f2d6c0",
   "metadata": {},
   "outputs": [
    {
     "name": "stdout",
     "output_type": "stream",
     "text": [
      "Collecting openpyxl\n",
      "  Downloading https://files.pythonhosted.org/packages/58/d9/796181a30827b12101786c21301f0f4536597a9249530916b1fdb5bbad91/openpyxl-3.1.3-py2.py3-none-any.whl (251kB)\n",
      "\u001b[K    100% |████████████████████████████████| 256kB 391kB/s ta 0:00:01\n",
      "\u001b[?25hCollecting et-xmlfile (from openpyxl)\n",
      "  Downloading https://files.pythonhosted.org/packages/96/c2/3dd434b0108730014f1b96fd286040dc3bcb70066346f7e01ec2ac95865f/et_xmlfile-1.1.0-py3-none-any.whl\n",
      "Installing collected packages: et-xmlfile, openpyxl\n",
      "Successfully installed et-xmlfile-1.1.0 openpyxl-3.1.3\n",
      "Note: you may need to restart the kernel to use updated packages.\n"
     ]
    }
   ],
   "source": [
    "pip install openpyxl\n"
   ]
  },
  {
   "cell_type": "code",
   "execution_count": 128,
   "id": "044f37e0",
   "metadata": {},
   "outputs": [],
   "source": [
    "import openpyxl\n"
   ]
  },
  {
   "cell_type": "code",
   "execution_count": 129,
   "id": "14f711b9",
   "metadata": {},
   "outputs": [],
   "source": [
    "file_path = \"/home/talentum/shared/Project_Data_Cleaned/output.xlsx\"\n",
    "\n",
    "# Write Pandas DataFrame to an Excel file\n",
    "pandas_df.to_excel(file_path, index=False,engine='openpyxl')\n"
   ]
  },
  {
   "cell_type": "code",
   "execution_count": null,
   "id": "c79e3f93",
   "metadata": {},
   "outputs": [],
   "source": []
  }
 ],
 "metadata": {
  "kernelspec": {
   "display_name": "Python 3",
   "language": "python",
   "name": "python3"
  },
  "language_info": {
   "codemirror_mode": {
    "name": "ipython",
    "version": 3
   },
   "file_extension": ".py",
   "mimetype": "text/x-python",
   "name": "python",
   "nbconvert_exporter": "python",
   "pygments_lexer": "ipython3",
   "version": "3.6.9"
  }
 },
 "nbformat": 4,
 "nbformat_minor": 5
}
