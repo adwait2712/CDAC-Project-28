{
 "cells": [
  {
   "cell_type": "code",
   "execution_count": 1,
   "id": "4530d5cb",
   "metadata": {},
   "outputs": [],
   "source": [
    "# Intialization\n",
    "import os\n",
    "import sys\n",
    "\n",
    "os.environ[\"SPARK_HOME\"] = \"/home/talentum/spark\"\n",
    "os.environ[\"PYLIB\"] = os.environ[\"SPARK_HOME\"] + \"/python/lib\"\n",
    "# In below two lines, use /usr/bin/python2.7 if you want to use Python 2\n",
    "os.environ[\"PYSPARK_PYTHON\"] = \"/usr/bin/python3.6\" \n",
    "os.environ[\"PYSPARK_DRIVER_PYTHON\"] = \"/usr/bin/python3\"\n",
    "sys.path.insert(0, os.environ[\"PYLIB\"] +\"/py4j-0.10.7-src.zip\")\n",
    "sys.path.insert(0, os.environ[\"PYLIB\"] +\"/pyspark.zip\")\n",
    "\n",
    "# NOTE: Whichever package you want mention here.\n",
    "# os.environ['PYSPARK_SUBMIT_ARGS'] = '--packages com.databricks:spark-xml_2.11:0.6.0 pyspark-shell' \n",
    "# os.environ['PYSPARK_SUBMIT_ARGS'] = '--packages org.apache.spark:spark-avro_2.11:2.4.0 pyspark-shell'\n",
    "os.environ['PYSPARK_SUBMIT_ARGS'] = '--packages com.databricks:spark-xml_2.11:0.6.0,org.apache.spark:spark-avro_2.11:2.4.3 pyspark-shell'\n",
    "# os.environ['PYSPARK_SUBMIT_ARGS'] = '--packages com.databricks:spark-xml_2.11:0.6.0,org.apache.spark:spark-avro_2.11:2.4.0 pyspark-shell'"
   ]
  },
  {
   "cell_type": "code",
   "execution_count": 2,
   "id": "ccf808cb",
   "metadata": {},
   "outputs": [],
   "source": [
    "#Entrypoint 2.x\n",
    "from pyspark.sql import SparkSession\n",
    "spark = SparkSession.builder.appName(\"Spark SQL basic example\").enableHiveSupport().getOrCreate()\n",
    "\n",
    "# On yarn:\n",
    "# spark = SparkSession.builder.appName(\"Spark SQL basic example\").enableHiveSupport().master(\"yarn\").getOrCreate()\n",
    "# specify .master(\"yarn\")\n",
    "\n",
    "sc = spark.sparkContext"
   ]
  },
  {
   "cell_type": "code",
   "execution_count": 5,
   "id": "db7a6867",
   "metadata": {},
   "outputs": [
    {
     "name": "stdout",
     "output_type": "stream",
     "text": [
      "+-----+-------------------+--------------------+------+---------+-----+------+-----------+------------------+---------+-------+-----+---------+-------------------+--------+----------+-----------------+-------------------+------------+----------+-------------------+\n",
      "|index|        dateCrawled|                name|seller|offerType|price|abtest|vehicleType|yearOfRegistration|  gearbox|powerPS|model|kilometer|monthOfRegistration|fuelType|     brand|notRepairedDamage|        dateCreated|nrOfPictures|postalCode|           lastSeen|\n",
      "+-----+-------------------+--------------------+------+---------+-----+------+-----------+------------------+---------+-------+-----+---------+-------------------+--------+----------+-----------------+-------------------+------------+----------+-------------------+\n",
      "|    0|2016-03-24 11:52:17|          Golf_3_1.6|privat|  Angebot|  480|  test|       null|              1993|  manuell|      0| golf|   150000|                  0|  benzin|volkswagen|             null|2016-03-24 00:00:00|           0|     70435|2016-04-07 03:16:57|\n",
      "|    1|2016-03-24 10:58:45|A5_Sportback_2.7_Tdi|privat|  Angebot|18300|  test|      coupe|              2011|  manuell|    190| null|   125000|                  5|  diesel|      audi|               ja|2016-03-24 00:00:00|           0|     66954|2016-04-07 01:46:50|\n",
      "|    2|2016-03-14 12:52:21|\"Jeep_Grand_Chero...|privat|  Angebot| 9800|  test|        suv|              2004|automatik|    163|grand|   125000|                  8|  diesel|      jeep|             null|2016-03-14 00:00:00|           0|     90480|2016-04-05 12:47:46|\n",
      "|    3|2016-03-17 16:54:04|  GOLF_4_1_4__3TÜRER|privat|  Angebot| 1500|  test| kleinwagen|              2001|  manuell|     75| golf|   150000|                  6|  benzin|volkswagen|             nein|2016-03-17 00:00:00|           0|     91074|2016-03-17 17:40:17|\n",
      "|    4|2016-03-31 17:25:20|Skoda_Fabia_1.4_T...|privat|  Angebot| 3600|  test| kleinwagen|              2008|  manuell|     69|fabia|    90000|                  7|  diesel|     skoda|             nein|2016-03-31 00:00:00|           0|     60437|2016-04-06 10:17:21|\n",
      "+-----+-------------------+--------------------+------+---------+-----+------+-----------+------------------+---------+-------+-----+---------+-------------------+--------+----------+-----------------+-------------------+------------+----------+-------------------+\n",
      "only showing top 5 rows\n",
      "\n"
     ]
    }
   ],
   "source": [
    "csv_file_path = \"file:///home/talentum/hello/autos.csv\"\n",
    "\n",
    "# Reading the CSV file into a DataFrame\n",
    "df = spark.read \\\n",
    "    .option(\"header\", \"true\") \\\n",
    "    .option(\"inferSchema\", \"true\") \\\n",
    "    .csv(csv_file_path)\n",
    "\n",
    "# Displaying the DataFrame\n",
    "df.show(5)"
   ]
  },
  {
   "cell_type": "code",
   "execution_count": 24,
   "id": "16d6999c",
   "metadata": {},
   "outputs": [
    {
     "name": "stdout",
     "output_type": "stream",
     "text": [
      "+-----+-------------------+--------------------+------+---------+-----+-------+-----------+------------------+---------+-------+--------+---------+-------------------+--------+-------------+-----------------+-------------------+------------+----------+-------------------+\n",
      "|index|        dateCrawled|                name|seller|offerType|price| abtest|vehicleType|yearOfRegistration|  gearbox|powerPS|   model|kilometer|monthOfRegistration|fuelType|        brand|notRepairedDamage|        dateCreated|nrOfPictures|postalCode|           lastSeen|\n",
      "+-----+-------------------+--------------------+------+---------+-----+-------+-----------+------------------+---------+-------+--------+---------+-------------------+--------+-------------+-----------------+-------------------+------------+----------+-------------------+\n",
      "|    0|2016-03-24 11:52:17|          Golf_3_1.6|privat|  Angebot|  480|   test|       null|              1993|  manuell|      0|    golf|   150000|                  0|  benzin|   volkswagen|             null|2016-03-24 00:00:00|           0|     70435|2016-04-07 03:16:57|\n",
      "|    1|2016-03-24 10:58:45|A5_Sportback_2.7_Tdi|privat|  Angebot|18300|   test|      coupe|              2011|  manuell|    190|    null|   125000|                  5|  diesel|         audi|               ja|2016-03-24 00:00:00|           0|     66954|2016-04-07 01:46:50|\n",
      "|    2|2016-03-14 12:52:21|\"Jeep_Grand_Chero...|privat|  Angebot| 9800|   test|        suv|              2004|automatik|    163|   grand|   125000|                  8|  diesel|         jeep|             null|2016-03-14 00:00:00|           0|     90480|2016-04-05 12:47:46|\n",
      "|    3|2016-03-17 16:54:04|  GOLF_4_1_4__3TÜRER|privat|  Angebot| 1500|   test| kleinwagen|              2001|  manuell|     75|    golf|   150000|                  6|  benzin|   volkswagen|             nein|2016-03-17 00:00:00|           0|     91074|2016-03-17 17:40:17|\n",
      "|    4|2016-03-31 17:25:20|Skoda_Fabia_1.4_T...|privat|  Angebot| 3600|   test| kleinwagen|              2008|  manuell|     69|   fabia|    90000|                  7|  diesel|        skoda|             nein|2016-03-31 00:00:00|           0|     60437|2016-04-06 10:17:21|\n",
      "|    5|2016-04-04 17:36:23|BMW_316i___e36_Li...|privat|  Angebot|  650|   test|  limousine|              1995|  manuell|    102|     3er|   150000|                 10|  benzin|          bmw|               ja|2016-04-04 00:00:00|           0|     33775|2016-04-06 19:17:07|\n",
      "|    6|2016-04-01 20:48:51|Peugeot_206_CC_11...|privat|  Angebot| 2200|   test|     cabrio|              2004|  manuell|    109| 2_reihe|   150000|                  8|  benzin|      peugeot|             nein|2016-04-01 00:00:00|           0|     67112|2016-04-05 18:18:39|\n",
      "|    7|2016-03-21 18:54:38|VW_Derby_Bj_80__S...|privat|  Angebot|    0|   test|  limousine|              1980|  manuell|     50|  andere|    40000|                  7|  benzin|   volkswagen|             nein|2016-03-21 00:00:00|           0|     19348|2016-03-25 16:47:58|\n",
      "|    8|2016-04-04 23:42:13|Ford_C___Max_Tita...|privat|  Angebot|14500|control|        bus|              2014|  manuell|    125|   c_max|    30000|                  8|  benzin|         ford|             null|2016-04-04 00:00:00|           0|     94505|2016-04-04 23:42:13|\n",
      "|    9|2016-03-17 10:53:50|VW_Golf_4_5_tueri...|privat|  Angebot|  999|   test| kleinwagen|              1998|  manuell|    101|    golf|   150000|                  0|    null|   volkswagen|             null|2016-03-17 00:00:00|           0|     27472|2016-03-31 17:17:06|\n",
      "|   10|2016-03-26 19:54:18|   Mazda_3_1.6_Sport|privat|  Angebot| 2000|control|  limousine|              2004|  manuell|    105| 3_reihe|   150000|                 12|  benzin|        mazda|             nein|2016-03-26 00:00:00|           0|     96224|2016-04-06 10:45:34|\n",
      "|   11|2016-04-07 10:06:22|Volkswagen_Passat...|privat|  Angebot| 2799|control|      kombi|              2005|  manuell|    140|  passat|   150000|                 12|  diesel|   volkswagen|               ja|2016-04-07 00:00:00|           0|     57290|2016-04-07 10:25:17|\n",
      "|   12|2016-03-15 22:49:09|\"VW_Passat_Faceli...|privat|  Angebot|  999|control|      kombi|              1995|  manuell|    115|  passat|   150000|                 11|  benzin|   volkswagen|             null|2016-03-15 00:00:00|           0|     37269|2016-04-01 13:16:16|\n",
      "|   13|2016-03-21 21:37:40|VW_PASSAT_1.9_TDI...|privat|  Angebot| 2500|control|      kombi|              2004|  manuell|    131|  passat|   150000|                  2|    null|   volkswagen|             nein|2016-03-21 00:00:00|           0|     90762|2016-03-23 02:50:54|\n",
      "|   14|2016-03-21 12:57:01|Nissan_Navara_2.5...|privat|  Angebot|17999|control|        suv|              2011|  manuell|    190|  navara|    70000|                  3|  diesel|       nissan|             nein|2016-03-21 00:00:00|           0|      4177|2016-04-06 07:45:42|\n",
      "|   15|2016-03-11 21:39:15|KA_Lufthansa_Edit...|privat|  Angebot|  450|   test| kleinwagen|              1910|     null|      0|      ka|     5000|                  0|  benzin|         ford|             null|2016-03-11 00:00:00|           0|     24148|2016-03-19 08:46:47|\n",
      "|   16|2016-04-01 12:46:46|         Polo_6n_1_4|privat|  Angebot|  300|   test|       null|              2016|     null|     60|    polo|   150000|                  0|  benzin|   volkswagen|             null|2016-04-01 00:00:00|           0|     38871|2016-04-01 12:46:46|\n",
      "|   17|2016-03-20 10:25:19|Renault_Twingo_1....|privat|  Angebot| 1750|control| kleinwagen|              2004|automatik|     75|  twingo|   150000|                  2|  benzin|      renault|             nein|2016-03-20 00:00:00|           0|     65599|2016-04-06 13:16:07|\n",
      "|   18|2016-03-23 15:48:05|Ford_C_MAX_2.0_TD...|privat|  Angebot| 7550|   test|        bus|              2007|  manuell|    136|   c_max|   150000|                  6|  diesel|         ford|             nein|2016-03-23 00:00:00|           0|     88361|2016-04-05 18:45:11|\n",
      "|   19|2016-04-01 22:55:47|Mercedes_Benz_A_1...|privat|  Angebot| 1850|   test|        bus|              2004|  manuell|    102|a_klasse|   150000|                  1|  benzin|mercedes_benz|             nein|2016-04-01 00:00:00|           0|     49565|2016-04-05 22:46:05|\n",
      "+-----+-------------------+--------------------+------+---------+-----+-------+-----------+------------------+---------+-------+--------+---------+-------------------+--------+-------------+-----------------+-------------------+------------+----------+-------------------+\n",
      "only showing top 20 rows\n",
      "\n"
     ]
    }
   ],
   "source": [
    "df.show(20)"
   ]
  },
  {
   "cell_type": "code",
   "execution_count": 6,
   "id": "1ba2e83b",
   "metadata": {},
   "outputs": [
    {
     "name": "stdout",
     "output_type": "stream",
     "text": [
      "+-----+-------------------+--------------------+------+---------+-----+------+-----------+------------------+---------+-------+-----+---------+-------------------+--------+----------+-----------------+-------------------+------------+----------+-------------------+\n",
      "|index|        dateCrawled|                name|seller|offerType|price|abtest|vehicleType|yearOfRegistration|  gearbox|powerPS|model|kilometer|monthOfRegistration|fuelType|     brand|notRepairedDamage|        dateCreated|nrOfPictures|postalCode|           lastSeen|\n",
      "+-----+-------------------+--------------------+------+---------+-----+------+-----------+------------------+---------+-------+-----+---------+-------------------+--------+----------+-----------------+-------------------+------------+----------+-------------------+\n",
      "|    0|2016-03-24 11:52:17|          Golf_3_1.6|privat|  Angebot|  480|  test|       null|              1993|  manuell|      0| golf|   150000|                  0|  benzin|volkswagen|             null|2016-03-24 00:00:00|           0|     70435|2016-04-07 03:16:57|\n",
      "|    1|2016-03-24 10:58:45|A5_Sportback_2.7_Tdi|privat|  Angebot|18300|  test|      coupe|              2011|  manuell|    190| null|   125000|                  5|  diesel|      audi|               ja|2016-03-24 00:00:00|           0|     66954|2016-04-07 01:46:50|\n",
      "|    2|2016-03-14 12:52:21|\"Jeep_Grand_Chero...|privat|  Angebot| 9800|  test|        suv|              2004|automatik|    163|grand|   125000|                  8|  diesel|      jeep|             null|2016-03-14 00:00:00|           0|     90480|2016-04-05 12:47:46|\n",
      "|    3|2016-03-17 16:54:04|  GOLF_4_1_4__3TÜRER|privat|  Angebot| 1500|  test| kleinwagen|              2001|  manuell|     75| golf|   150000|                  6|  benzin|volkswagen|             nein|2016-03-17 00:00:00|           0|     91074|2016-03-17 17:40:17|\n",
      "|    4|2016-03-31 17:25:20|Skoda_Fabia_1.4_T...|privat|  Angebot| 3600|  test| kleinwagen|              2008|  manuell|     69|fabia|    90000|                  7|  diesel|     skoda|             nein|2016-03-31 00:00:00|           0|     60437|2016-04-06 10:17:21|\n",
      "+-----+-------------------+--------------------+------+---------+-----+------+-----------+------------------+---------+-------+-----+---------+-------------------+--------+----------+-----------------+-------------------+------------+----------+-------------------+\n",
      "only showing top 5 rows\n",
      "\n"
     ]
    }
   ],
   "source": [
    "csv_file_path = \"autos.csv\"\n",
    "\n",
    "# Reading the CSV file into a DataFrame\n",
    "df = spark.read \\\n",
    "    .option(\"header\", \"true\") \\\n",
    "    .option(\"inferSchema\", \"true\") \\\n",
    "    .csv(csv_file_path)\n",
    "\n",
    "# Displaying the DataFrame\n",
    "df.show(5)"
   ]
  },
  {
   "cell_type": "code",
   "execution_count": 7,
   "id": "50154dc7",
   "metadata": {},
   "outputs": [],
   "source": [
    "df2=df"
   ]
  },
  {
   "cell_type": "code",
   "execution_count": 8,
   "id": "8fe62591",
   "metadata": {},
   "outputs": [
    {
     "name": "stdout",
     "output_type": "stream",
     "text": [
      "+-----+-------------------+--------------------+------+---------+-----+------+-----------+------------------+---------+-------+-----+---------+-------------------+--------+----------+-----------------+-------------------+------------+----------+-------------------+\n",
      "|index|        dateCrawled|                name|seller|offerType|price|abtest|vehicleType|yearOfRegistration|  gearbox|powerPS|model|kilometer|monthOfRegistration|fuelType|     brand|notRepairedDamage|        dateCreated|nrOfPictures|postalCode|           lastSeen|\n",
      "+-----+-------------------+--------------------+------+---------+-----+------+-----------+------------------+---------+-------+-----+---------+-------------------+--------+----------+-----------------+-------------------+------------+----------+-------------------+\n",
      "|    0|2016-03-24 11:52:17|          Golf_3_1.6|privat|  Angebot|  480|  test|       null|              1993|  manuell|      0| golf|   150000|                  0|  benzin|volkswagen|             null|2016-03-24 00:00:00|           0|     70435|2016-04-07 03:16:57|\n",
      "|    1|2016-03-24 10:58:45|A5_Sportback_2.7_Tdi|privat|  Angebot|18300|  test|      coupe|              2011|  manuell|    190| null|   125000|                  5|  diesel|      audi|               ja|2016-03-24 00:00:00|           0|     66954|2016-04-07 01:46:50|\n",
      "|    2|2016-03-14 12:52:21|\"Jeep_Grand_Chero...|privat|  Angebot| 9800|  test|        suv|              2004|automatik|    163|grand|   125000|                  8|  diesel|      jeep|             null|2016-03-14 00:00:00|           0|     90480|2016-04-05 12:47:46|\n",
      "|    3|2016-03-17 16:54:04|  GOLF_4_1_4__3TÜRER|privat|  Angebot| 1500|  test| kleinwagen|              2001|  manuell|     75| golf|   150000|                  6|  benzin|volkswagen|             nein|2016-03-17 00:00:00|           0|     91074|2016-03-17 17:40:17|\n",
      "|    4|2016-03-31 17:25:20|Skoda_Fabia_1.4_T...|privat|  Angebot| 3600|  test| kleinwagen|              2008|  manuell|     69|fabia|    90000|                  7|  diesel|     skoda|             nein|2016-03-31 00:00:00|           0|     60437|2016-04-06 10:17:21|\n",
      "+-----+-------------------+--------------------+------+---------+-----+------+-----------+------------------+---------+-------+-----+---------+-------------------+--------+----------+-----------------+-------------------+------------+----------+-------------------+\n",
      "only showing top 5 rows\n",
      "\n"
     ]
    }
   ],
   "source": [
    "df2.show(5)"
   ]
  },
  {
   "cell_type": "code",
   "execution_count": 9,
   "id": "434603d7",
   "metadata": {},
   "outputs": [
    {
     "name": "stdout",
     "output_type": "stream",
     "text": [
      "root\n",
      " |-- index: string (nullable = true)\n",
      " |-- dateCrawled: string (nullable = true)\n",
      " |-- name: string (nullable = true)\n",
      " |-- seller: string (nullable = true)\n",
      " |-- offerType: string (nullable = true)\n",
      " |-- price: string (nullable = true)\n",
      " |-- abtest: string (nullable = true)\n",
      " |-- vehicleType: string (nullable = true)\n",
      " |-- yearOfRegistration: string (nullable = true)\n",
      " |-- gearbox: string (nullable = true)\n",
      " |-- powerPS: string (nullable = true)\n",
      " |-- model: string (nullable = true)\n",
      " |-- kilometer: integer (nullable = true)\n",
      " |-- monthOfRegistration: string (nullable = true)\n",
      " |-- fuelType: string (nullable = true)\n",
      " |-- brand: string (nullable = true)\n",
      " |-- notRepairedDamage: string (nullable = true)\n",
      " |-- dateCreated: string (nullable = true)\n",
      " |-- nrOfPictures: integer (nullable = true)\n",
      " |-- postalCode: string (nullable = true)\n",
      " |-- lastSeen: timestamp (nullable = true)\n",
      "\n"
     ]
    }
   ],
   "source": [
    "df.printSchema()"
   ]
  },
  {
   "cell_type": "code",
   "execution_count": 10,
   "id": "19c08a07",
   "metadata": {},
   "outputs": [
    {
     "name": "stdout",
     "output_type": "stream",
     "text": [
      "+-------+------------------+--------------------+--------------------+-------+------------------+------------------+------+------------------+------------------+------------------+------------------+------------------+------------------+-------------------+----------+----------+-------------------+-------------------+------------------+------------------+\n",
      "|summary|             index|         dateCrawled|                name| seller|         offerType|             price|abtest|       vehicleType|yearOfRegistration|           gearbox|           powerPS|             model|         kilometer|monthOfRegistration|  fuelType|     brand|  notRepairedDamage|        dateCreated|      nrOfPictures|        postalCode|\n",
      "+-------+------------------+--------------------+--------------------+-------+------------------+------------------+------+------------------+------------------+------------------+------------------+------------------+------------------+-------------------+----------+----------+-------------------+-------------------+------------------+------------------+\n",
      "|  count|            371824|              371824|              371824| 371823|            371823|            371823|371794|            333953|            371810|            351613|            371809|            351339|            371823|             371795|    338436|    371760|             299763|             371823|            371823|            371823|\n",
      "|   mean|          185763.5|                null|1.312778347986932...|   null| 6259.489864864865|17295.124087885943|  null|2003.0135135135135|2004.5779660697608|106.03716216216216|115.55019163688041| 6046.651279707496|125518.69228369412|  5.734441911355029|      null|      null|               null|                0.0| 41.63701008275443| 50820.54457414939|\n",
      "| stddev|107251.03974321182|                null|9.911259041873089E18|   null|17151.099475748353|  3587958.57312194|  null| 7.330906468321265| 92.86672241989169| 65.83519720152317|192.13928734765673|27257.347031371217|  40252.6277328544|  3.712403703546147|      null|      null|               null|                0.0|1640.4572345835277|25799.086534092254|\n",
      "|    min|                 0|**Opel_Corsa_1_2_...|!!!!!!!!!!!!!!!!!...|Angebot|                 0|                 0|andere|              1970|              1000|                 0|                 0|               100|                 0|                  0|alfa_romeo|alfa_romeo|2016-03-05 00:00:00|                  0|                 0|             10115|\n",
      "|    max|             99999|verkaufe__ein_vec...|€€€_Mercedes_E200...| privat|            Gesuch|              test|  test|               suv|           manuell|           manuell|            zafira|            zafira|            150000|                lpg|     volvo|     volvo|               nein|2016-04-07 00:00:00|             99427|             99998|\n",
      "+-------+------------------+--------------------+--------------------+-------+------------------+------------------+------+------------------+------------------+------------------+------------------+------------------+------------------+-------------------+----------+----------+-------------------+-------------------+------------------+------------------+\n",
      "\n"
     ]
    }
   ],
   "source": [
    "df.describe().show()"
   ]
  },
  {
   "cell_type": "code",
   "execution_count": 14,
   "id": "aa67d02f",
   "metadata": {},
   "outputs": [
    {
     "name": "stdout",
     "output_type": "stream",
     "text": [
      "+-----+-----------+----+------+---------+-----+------+-----------+------------------+-------+-------+-----+---------+-------------------+--------+-----+-----------------+-----------+------------+----------+--------+\n",
      "|index|dateCrawled|name|seller|offerType|price|abtest|vehicleType|yearOfRegistration|gearbox|powerPS|model|kilometer|monthOfRegistration|fuelType|brand|notRepairedDamage|dateCreated|nrOfPictures|postalCode|lastSeen|\n",
      "+-----+-----------+----+------+---------+-----+------+-----------+------------------+-------+-------+-----+---------+-------------------+--------+-----+-----------------+-----------+------------+----------+--------+\n",
      "|    0|          0|   0|     1|        1|    1|    30|      37871|                14|  20211|     15|20485|        1|                 29|   33388|   64|            72061|          1|           1|         1|     297|\n",
      "+-----+-----------+----+------+---------+-----+------+-----------+------------------+-------+-------+-----+---------+-------------------+--------+-----+-----------------+-----------+------------+----------+--------+\n",
      "\n"
     ]
    }
   ],
   "source": [
    "from pyspark.sql.functions import col, sum\n",
    "\n",
    "df.select([sum(col(c).isNull().cast(\"int\")).alias(c) for c in df.columns]).show()\n"
   ]
  },
  {
   "cell_type": "code",
   "execution_count": 17,
   "id": "11143bb1",
   "metadata": {},
   "outputs": [
    {
     "name": "stdout",
     "output_type": "stream",
     "text": [
      "+-------------------+---------+\n",
      "|             Column|NullCount|\n",
      "+-------------------+---------+\n",
      "|              index|        0|\n",
      "|        dateCrawled|        0|\n",
      "|               name|        0|\n",
      "|             seller|        1|\n",
      "|          offerType|        1|\n",
      "|              price|        1|\n",
      "|             abtest|       30|\n",
      "|        vehicleType|    37871|\n",
      "| yearOfRegistration|       14|\n",
      "|            gearbox|    20211|\n",
      "|            powerPS|       15|\n",
      "|              model|    20485|\n",
      "|          kilometer|        1|\n",
      "|monthOfRegistration|       29|\n",
      "|           fuelType|    33388|\n",
      "|              brand|       64|\n",
      "|  notRepairedDamage|    72061|\n",
      "|        dateCreated|        1|\n",
      "|       nrOfPictures|        1|\n",
      "|         postalCode|        1|\n",
      "+-------------------+---------+\n",
      "only showing top 20 rows\n",
      "\n"
     ]
    }
   ],
   "source": [
    "from pyspark.sql.functions import col, sum\n",
    "\n",
    "# Get the list of columns\n",
    "columns = df.columns\n",
    "\n",
    "# Create a dictionary to store the null count for each column\n",
    "null_counts = {col_name: df.filter(col(col_name).isNull()).count() for col_name in columns}\n",
    "\n",
    "# Convert the dictionary to a DataFrame for better display\n",
    "null_counts_df = spark.createDataFrame([(k, v) for k, v in null_counts.items()], [\"Column\", \"NullCount\"])\n",
    "\n",
    "# Show the null counts\n",
    "null_counts_df.show()"
   ]
  },
  {
   "cell_type": "code",
   "execution_count": 21,
   "id": "4d15ff1a",
   "metadata": {},
   "outputs": [
    {
     "name": "stdout",
     "output_type": "stream",
     "text": [
      "+-----------+-----+\n",
      "|vehicleType|count|\n",
      "+-----------+-----+\n",
      "|       2016|    6|\n",
      "|       2012|    9|\n",
      "|       1988|    3|\n",
      "|       2017|    8|\n",
      "|       2014|    3|\n",
      "|       1984|    1|\n",
      "|       2013|    5|\n",
      "|       2005|   14|\n",
      "|       2000|   23|\n",
      "|       null|37871|\n",
      "|      coupe|19015|\n",
      "| kleinwagen|80023|\n",
      "|        bus|30201|\n",
      "|     andere| 3357|\n",
      "|       2002|   22|\n",
      "|       2018|    3|\n",
      "|       2009|   10|\n",
      "|       1995|    6|\n",
      "|  limousine|95894|\n",
      "|       2006|   23|\n",
      "+-----------+-----+\n",
      "only showing top 20 rows\n",
      "\n"
     ]
    }
   ],
   "source": [
    "value_count_veh_type=df.groupBy(\"vehicleType\").count()\n",
    "value_count_veh_type.show()"
   ]
  },
  {
   "cell_type": "code",
   "execution_count": 23,
   "id": "7c56ed75",
   "metadata": {},
   "outputs": [
    {
     "ename": "AttributeError",
     "evalue": "'DataFrame' object has no attribute 'unique'",
     "output_type": "error",
     "traceback": [
      "\u001b[0;31m---------------------------------------------------------------------------\u001b[0m",
      "\u001b[0;31mAttributeError\u001b[0m                            Traceback (most recent call last)",
      "\u001b[0;32m<ipython-input-23-67db117f69fe>\u001b[0m in \u001b[0;36m<module>\u001b[0;34m\u001b[0m\n\u001b[0;32m----> 1\u001b[0;31m \u001b[0mvalue_count_veh_type\u001b[0m\u001b[0;34m.\u001b[0m\u001b[0munique\u001b[0m\u001b[0;34m(\u001b[0m\u001b[0;34m)\u001b[0m\u001b[0;34m\u001b[0m\u001b[0;34m\u001b[0m\u001b[0m\n\u001b[0m",
      "\u001b[0;32m~/spark/python/lib/pyspark.zip/pyspark/sql/dataframe.py\u001b[0m in \u001b[0;36m__getattr__\u001b[0;34m(self, name)\u001b[0m\n\u001b[1;32m   1302\u001b[0m         \u001b[0;32mif\u001b[0m \u001b[0mname\u001b[0m \u001b[0;32mnot\u001b[0m \u001b[0;32min\u001b[0m \u001b[0mself\u001b[0m\u001b[0;34m.\u001b[0m\u001b[0mcolumns\u001b[0m\u001b[0;34m:\u001b[0m\u001b[0;34m\u001b[0m\u001b[0;34m\u001b[0m\u001b[0m\n\u001b[1;32m   1303\u001b[0m             raise AttributeError(\n\u001b[0;32m-> 1304\u001b[0;31m                 \"'%s' object has no attribute '%s'\" % (self.__class__.__name__, name))\n\u001b[0m\u001b[1;32m   1305\u001b[0m         \u001b[0mjc\u001b[0m \u001b[0;34m=\u001b[0m \u001b[0mself\u001b[0m\u001b[0;34m.\u001b[0m\u001b[0m_jdf\u001b[0m\u001b[0;34m.\u001b[0m\u001b[0mapply\u001b[0m\u001b[0;34m(\u001b[0m\u001b[0mname\u001b[0m\u001b[0;34m)\u001b[0m\u001b[0;34m\u001b[0m\u001b[0;34m\u001b[0m\u001b[0m\n\u001b[1;32m   1306\u001b[0m         \u001b[0;32mreturn\u001b[0m \u001b[0mColumn\u001b[0m\u001b[0;34m(\u001b[0m\u001b[0mjc\u001b[0m\u001b[0;34m)\u001b[0m\u001b[0;34m\u001b[0m\u001b[0;34m\u001b[0m\u001b[0m\n",
      "\u001b[0;31mAttributeError\u001b[0m: 'DataFrame' object has no attribute 'unique'"
     ]
    }
   ],
   "source": [
    "value_count_veh_type.unique()"
   ]
  },
  {
   "cell_type": "code",
   "execution_count": null,
   "id": "90858900",
   "metadata": {},
   "outputs": [],
   "source": []
  }
 ],
 "metadata": {
  "kernelspec": {
   "display_name": "Python 3",
   "language": "python",
   "name": "python3"
  },
  "language_info": {
   "codemirror_mode": {
    "name": "ipython",
    "version": 3
   },
   "file_extension": ".py",
   "mimetype": "text/x-python",
   "name": "python",
   "nbconvert_exporter": "python",
   "pygments_lexer": "ipython3",
   "version": "3.6.9"
  }
 },
 "nbformat": 4,
 "nbformat_minor": 5
}
