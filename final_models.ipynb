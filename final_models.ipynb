{
 "cells": [
  {
   "cell_type": "code",
   "execution_count": 1,
   "id": "684cc41f-6c19-489f-8f87-f1b85707bf1b",
   "metadata": {},
   "outputs": [],
   "source": [
    "import numpy as np\n",
    "import pandas as pd"
   ]
  },
  {
   "cell_type": "code",
   "execution_count": 99,
   "id": "fb57c19f-e655-4fc0-ba2e-652beba8dcb8",
   "metadata": {},
   "outputs": [],
   "source": [
    "from sklearn.model_selection import train_test_split, cross_validate\n",
    "from sklearn.decomposition import PCA\n",
    "from sklearn.ensemble import RandomForestRegressor, ExtraTreesRegressor\n",
    "from sklearn.preprocessing import MinMaxScaler, StandardScaler\n",
    "from sklearn.linear_model import LinearRegression\n",
    "from sklearn.neighbors import KNeighborsRegressor\n",
    "from sklearn.pipeline import Pipeline\n",
    "from sklearn.metrics import mean_absolute_error, mean_squared_error, r2_score, make_scorer\n",
    "from sklearn.feature_selection import RFE\n",
    "from sklearn.tree import DecisionTreeRegressor\n",
    "import xgboost as xgb\n",
    "from sklearn.svm import SVR"
   ]
  },
  {
   "cell_type": "code",
   "execution_count": 37,
   "id": "f161e46a-8958-47b2-b08b-dc19140ca5d5",
   "metadata": {},
   "outputs": [],
   "source": [
    "car=pd.read_csv(\"E:/cdac/Project-End-Cdac-4Members/after_iqr.csv\")\n",
    "car_data=car.copy()"
   ]
  },
  {
   "cell_type": "code",
   "execution_count": 38,
   "id": "3858c6c6-866b-4aa4-adb5-48eb945752fb",
   "metadata": {},
   "outputs": [
    {
     "data": {
      "text/html": [
       "<div>\n",
       "<style scoped>\n",
       "    .dataframe tbody tr th:only-of-type {\n",
       "        vertical-align: middle;\n",
       "    }\n",
       "\n",
       "    .dataframe tbody tr th {\n",
       "        vertical-align: top;\n",
       "    }\n",
       "\n",
       "    .dataframe thead th {\n",
       "        text-align: right;\n",
       "    }\n",
       "</style>\n",
       "<table border=\"1\" class=\"dataframe\">\n",
       "  <thead>\n",
       "    <tr style=\"text-align: right;\">\n",
       "      <th></th>\n",
       "      <th>Price</th>\n",
       "      <th>abtest</th>\n",
       "      <th>vehicleType</th>\n",
       "      <th>gearbox</th>\n",
       "      <th>powerPS</th>\n",
       "      <th>model</th>\n",
       "      <th>kilometer</th>\n",
       "      <th>monthOfRegistration</th>\n",
       "      <th>fuelType</th>\n",
       "      <th>brand</th>\n",
       "      <th>notRepairedDamage</th>\n",
       "      <th>postalCode</th>\n",
       "      <th>Car_age</th>\n",
       "    </tr>\n",
       "  </thead>\n",
       "  <tbody>\n",
       "    <tr>\n",
       "      <th>0</th>\n",
       "      <td>480.0</td>\n",
       "      <td>test</td>\n",
       "      <td>sedan</td>\n",
       "      <td>Manual</td>\n",
       "      <td>40</td>\n",
       "      <td>golf</td>\n",
       "      <td>150000</td>\n",
       "      <td>1</td>\n",
       "      <td>Petrol</td>\n",
       "      <td>volkswagen</td>\n",
       "      <td>No</td>\n",
       "      <td>70435</td>\n",
       "      <td>23</td>\n",
       "    </tr>\n",
       "    <tr>\n",
       "      <th>1</th>\n",
       "      <td>18300.0</td>\n",
       "      <td>test</td>\n",
       "      <td>coupe</td>\n",
       "      <td>Manual</td>\n",
       "      <td>190</td>\n",
       "      <td>golf</td>\n",
       "      <td>125000</td>\n",
       "      <td>5</td>\n",
       "      <td>Diesel</td>\n",
       "      <td>audi</td>\n",
       "      <td>Yes</td>\n",
       "      <td>66954</td>\n",
       "      <td>5</td>\n",
       "    </tr>\n",
       "    <tr>\n",
       "      <th>2</th>\n",
       "      <td>9800.0</td>\n",
       "      <td>test</td>\n",
       "      <td>suv</td>\n",
       "      <td>Automatic</td>\n",
       "      <td>163</td>\n",
       "      <td>grand</td>\n",
       "      <td>125000</td>\n",
       "      <td>8</td>\n",
       "      <td>Diesel</td>\n",
       "      <td>jeep</td>\n",
       "      <td>No</td>\n",
       "      <td>90480</td>\n",
       "      <td>12</td>\n",
       "    </tr>\n",
       "    <tr>\n",
       "      <th>3</th>\n",
       "      <td>1500.0</td>\n",
       "      <td>test</td>\n",
       "      <td>small_car</td>\n",
       "      <td>Manual</td>\n",
       "      <td>75</td>\n",
       "      <td>golf</td>\n",
       "      <td>150000</td>\n",
       "      <td>6</td>\n",
       "      <td>Petrol</td>\n",
       "      <td>volkswagen</td>\n",
       "      <td>No</td>\n",
       "      <td>91074</td>\n",
       "      <td>15</td>\n",
       "    </tr>\n",
       "    <tr>\n",
       "      <th>4</th>\n",
       "      <td>3600.0</td>\n",
       "      <td>test</td>\n",
       "      <td>small_car</td>\n",
       "      <td>Manual</td>\n",
       "      <td>69</td>\n",
       "      <td>fabia</td>\n",
       "      <td>90000</td>\n",
       "      <td>7</td>\n",
       "      <td>Diesel</td>\n",
       "      <td>skoda</td>\n",
       "      <td>No</td>\n",
       "      <td>60437</td>\n",
       "      <td>8</td>\n",
       "    </tr>\n",
       "  </tbody>\n",
       "</table>\n",
       "</div>"
      ],
      "text/plain": [
       "     Price abtest vehicleType    gearbox  powerPS  model  kilometer  \\\n",
       "0    480.0   test       sedan     Manual       40   golf     150000   \n",
       "1  18300.0   test       coupe     Manual      190   golf     125000   \n",
       "2   9800.0   test         suv  Automatic      163  grand     125000   \n",
       "3   1500.0   test   small_car     Manual       75   golf     150000   \n",
       "4   3600.0   test   small_car     Manual       69  fabia      90000   \n",
       "\n",
       "   monthOfRegistration fuelType       brand notRepairedDamage  postalCode  \\\n",
       "0                    1   Petrol  volkswagen                No       70435   \n",
       "1                    5   Diesel        audi               Yes       66954   \n",
       "2                    8   Diesel        jeep                No       90480   \n",
       "3                    6   Petrol  volkswagen                No       91074   \n",
       "4                    7   Diesel       skoda                No       60437   \n",
       "\n",
       "   Car_age  \n",
       "0       23  \n",
       "1        5  \n",
       "2       12  \n",
       "3       15  \n",
       "4        8  "
      ]
     },
     "execution_count": 38,
     "metadata": {},
     "output_type": "execute_result"
    }
   ],
   "source": [
    "car_data.head()"
   ]
  },
  {
   "cell_type": "code",
   "execution_count": 39,
   "id": "b7acbce4-995c-4b3f-b89a-55c2dd9f0869",
   "metadata": {},
   "outputs": [
    {
     "data": {
      "text/plain": [
       "(360748, 13)"
      ]
     },
     "execution_count": 39,
     "metadata": {},
     "output_type": "execute_result"
    }
   ],
   "source": [
    "car_data.shape"
   ]
  },
  {
   "cell_type": "code",
   "execution_count": 40,
   "id": "cd634b94-4042-4934-a2ac-a914edfbfa9a",
   "metadata": {},
   "outputs": [],
   "source": [
    "def remove_outliers(df: pd.DataFrame) -> pd.DataFrame:\n",
    "    # Calculate the 10th and 90th percentiles (Q1 and Q3)\n",
    "    Q1 = df.quantile(0.1, numeric_only=True)\n",
    "    Q3 = df.quantile(0.9, numeric_only=True)\n",
    "    IQR = Q3 - Q1\n",
    "\n",
    "    # Filter the DataFrame to only include columns that are in the IQR calculation\n",
    "    df_filtered = df[Q1.index]\n",
    "\n",
    "    # Apply the outlier removal condition\n",
    "    filtered_df = df_filtered[~((df_filtered < (Q1 - 1.5 * IQR)) | (df_filtered > (Q3 + 1.5 * IQR))).any(axis=1)]\n",
    "\n",
    "    # Return the original DataFrame without outliers, including non-numeric columns\n",
    "    return df.loc[filtered_df.index]\n",
    "\n",
    "# Assuming `new_car` is your DataFrame\n",
    "clean_user_car = remove_outliers(car_data)"
   ]
  },
  {
   "cell_type": "code",
   "execution_count": 89,
   "id": "2d5c6a9b-d884-4925-a332-d51f4addbfcb",
   "metadata": {},
   "outputs": [],
   "source": [
    "#----------------------------Index Added-----------------------"
   ]
  },
  {
   "cell_type": "code",
   "execution_count": 83,
   "id": "03232348-70d5-45d4-a6c6-9361bae3204f",
   "metadata": {},
   "outputs": [],
   "source": [
    "clean_car['Index'] = range(1, len(clean_car) + 1)"
   ]
  },
  {
   "cell_type": "code",
   "execution_count": 87,
   "id": "5fbde442-6ba8-4f56-8857-25ed87f4dce4",
   "metadata": {},
   "outputs": [],
   "source": [
    "csv_filename = 'final_data354205.csv'\n",
    "clean_car.to_csv(csv_filename, index=False)"
   ]
  },
  {
   "cell_type": "code",
   "execution_count": 90,
   "id": "a2ed0de0-3896-4ba4-8585-e3bd13de2e99",
   "metadata": {},
   "outputs": [],
   "source": [
    "#--------------------------------------"
   ]
  },
  {
   "cell_type": "code",
   "execution_count": 41,
   "id": "07bc8208-c89f-4d25-a717-5bc9b17a731e",
   "metadata": {},
   "outputs": [],
   "source": [
    "from sklearn.preprocessing import LabelEncoder\n",
    "\n",
    "cat_cols = [\"notRepairedDamage\", \"vehicleType\",\n",
    "            \"abtest\", \"gearbox\", \"model\", \"fuelType\", \"brand\"] # Initialize a list of categorical column names\n",
    "\n",
    "encoder = LabelEncoder() # Initialize a LabelEncoder object\n",
    "encoded_user_car = clean_user_car.copy() # Make a copy of the clean_user_car dataframe and assign it to encoded_user_car\n",
    "encoded_user_car[cat_cols] = encoded_user_car[cat_cols].apply(encoder.fit_transform) # Apply the fit_transform method of the encoder object to the categorical columns of the encoded_user_car dataframe\n"
   ]
  },
  {
   "cell_type": "code",
   "execution_count": 42,
   "id": "a1f598ab-b521-41f4-9fec-f53d789a83fb",
   "metadata": {},
   "outputs": [
    {
     "data": {
      "text/html": [
       "<div>\n",
       "<style scoped>\n",
       "    .dataframe tbody tr th:only-of-type {\n",
       "        vertical-align: middle;\n",
       "    }\n",
       "\n",
       "    .dataframe tbody tr th {\n",
       "        vertical-align: top;\n",
       "    }\n",
       "\n",
       "    .dataframe thead th {\n",
       "        text-align: right;\n",
       "    }\n",
       "</style>\n",
       "<table border=\"1\" class=\"dataframe\">\n",
       "  <thead>\n",
       "    <tr style=\"text-align: right;\">\n",
       "      <th></th>\n",
       "      <th>Price</th>\n",
       "      <th>abtest</th>\n",
       "      <th>vehicleType</th>\n",
       "      <th>gearbox</th>\n",
       "      <th>powerPS</th>\n",
       "      <th>model</th>\n",
       "      <th>kilometer</th>\n",
       "      <th>monthOfRegistration</th>\n",
       "      <th>fuelType</th>\n",
       "      <th>brand</th>\n",
       "      <th>notRepairedDamage</th>\n",
       "      <th>postalCode</th>\n",
       "      <th>Car_age</th>\n",
       "    </tr>\n",
       "  </thead>\n",
       "  <tbody>\n",
       "    <tr>\n",
       "      <th>0</th>\n",
       "      <td>480.0</td>\n",
       "      <td>1</td>\n",
       "      <td>4</td>\n",
       "      <td>1</td>\n",
       "      <td>40</td>\n",
       "      <td>117</td>\n",
       "      <td>150000</td>\n",
       "      <td>1</td>\n",
       "      <td>6</td>\n",
       "      <td>38</td>\n",
       "      <td>0</td>\n",
       "      <td>70435</td>\n",
       "      <td>23</td>\n",
       "    </tr>\n",
       "    <tr>\n",
       "      <th>1</th>\n",
       "      <td>18300.0</td>\n",
       "      <td>1</td>\n",
       "      <td>3</td>\n",
       "      <td>1</td>\n",
       "      <td>190</td>\n",
       "      <td>117</td>\n",
       "      <td>125000</td>\n",
       "      <td>5</td>\n",
       "      <td>1</td>\n",
       "      <td>1</td>\n",
       "      <td>1</td>\n",
       "      <td>66954</td>\n",
       "      <td>5</td>\n",
       "    </tr>\n",
       "    <tr>\n",
       "      <th>2</th>\n",
       "      <td>9800.0</td>\n",
       "      <td>1</td>\n",
       "      <td>7</td>\n",
       "      <td>0</td>\n",
       "      <td>163</td>\n",
       "      <td>118</td>\n",
       "      <td>125000</td>\n",
       "      <td>8</td>\n",
       "      <td>1</td>\n",
       "      <td>14</td>\n",
       "      <td>0</td>\n",
       "      <td>90480</td>\n",
       "      <td>12</td>\n",
       "    </tr>\n",
       "    <tr>\n",
       "      <th>3</th>\n",
       "      <td>1500.0</td>\n",
       "      <td>1</td>\n",
       "      <td>5</td>\n",
       "      <td>1</td>\n",
       "      <td>75</td>\n",
       "      <td>117</td>\n",
       "      <td>150000</td>\n",
       "      <td>6</td>\n",
       "      <td>6</td>\n",
       "      <td>38</td>\n",
       "      <td>0</td>\n",
       "      <td>91074</td>\n",
       "      <td>15</td>\n",
       "    </tr>\n",
       "    <tr>\n",
       "      <th>4</th>\n",
       "      <td>3600.0</td>\n",
       "      <td>1</td>\n",
       "      <td>5</td>\n",
       "      <td>1</td>\n",
       "      <td>69</td>\n",
       "      <td>102</td>\n",
       "      <td>90000</td>\n",
       "      <td>7</td>\n",
       "      <td>1</td>\n",
       "      <td>31</td>\n",
       "      <td>0</td>\n",
       "      <td>60437</td>\n",
       "      <td>8</td>\n",
       "    </tr>\n",
       "  </tbody>\n",
       "</table>\n",
       "</div>"
      ],
      "text/plain": [
       "     Price  abtest  vehicleType  gearbox  powerPS  model  kilometer  \\\n",
       "0    480.0       1            4        1       40    117     150000   \n",
       "1  18300.0       1            3        1      190    117     125000   \n",
       "2   9800.0       1            7        0      163    118     125000   \n",
       "3   1500.0       1            5        1       75    117     150000   \n",
       "4   3600.0       1            5        1       69    102      90000   \n",
       "\n",
       "   monthOfRegistration  fuelType  brand  notRepairedDamage  postalCode  \\\n",
       "0                    1         6     38                  0       70435   \n",
       "1                    5         1      1                  1       66954   \n",
       "2                    8         1     14                  0       90480   \n",
       "3                    6         6     38                  0       91074   \n",
       "4                    7         1     31                  0       60437   \n",
       "\n",
       "   Car_age  \n",
       "0       23  \n",
       "1        5  \n",
       "2       12  \n",
       "3       15  \n",
       "4        8  "
      ]
     },
     "execution_count": 42,
     "metadata": {},
     "output_type": "execute_result"
    }
   ],
   "source": [
    "encoded_user_car.head()"
   ]
  },
  {
   "cell_type": "code",
   "execution_count": 61,
   "id": "9cfc7912-30ea-4b31-9899-5dc29280bb6a",
   "metadata": {},
   "outputs": [],
   "source": [
    "X = encoded_user_car.drop([\"Price\"], axis=1)\n",
    "y = encoded_user_car[\"Price\"]"
   ]
  },
  {
   "cell_type": "code",
   "execution_count": 62,
   "id": "f0c8b1fc-44f5-4504-9d55-d0d94efc0b49",
   "metadata": {},
   "outputs": [
    {
     "data": {
      "text/plain": [
       "(354205, 13)"
      ]
     },
     "execution_count": 62,
     "metadata": {},
     "output_type": "execute_result"
    }
   ],
   "source": [
    "encoded_user_car.shape"
   ]
  },
  {
   "cell_type": "code",
   "execution_count": 63,
   "id": "939cb505-20e8-41e8-91ec-eb538dc0de4b",
   "metadata": {},
   "outputs": [
    {
     "data": {
      "text/html": [
       "<div>\n",
       "<style scoped>\n",
       "    .dataframe tbody tr th:only-of-type {\n",
       "        vertical-align: middle;\n",
       "    }\n",
       "\n",
       "    .dataframe tbody tr th {\n",
       "        vertical-align: top;\n",
       "    }\n",
       "\n",
       "    .dataframe thead th {\n",
       "        text-align: right;\n",
       "    }\n",
       "</style>\n",
       "<table border=\"1\" class=\"dataframe\">\n",
       "  <thead>\n",
       "    <tr style=\"text-align: right;\">\n",
       "      <th></th>\n",
       "      <th>abtest</th>\n",
       "      <th>vehicleType</th>\n",
       "      <th>gearbox</th>\n",
       "      <th>powerPS</th>\n",
       "      <th>model</th>\n",
       "      <th>kilometer</th>\n",
       "      <th>monthOfRegistration</th>\n",
       "      <th>fuelType</th>\n",
       "      <th>brand</th>\n",
       "      <th>notRepairedDamage</th>\n",
       "      <th>postalCode</th>\n",
       "      <th>Car_age</th>\n",
       "    </tr>\n",
       "  </thead>\n",
       "  <tbody>\n",
       "    <tr>\n",
       "      <th>0</th>\n",
       "      <td>1</td>\n",
       "      <td>4</td>\n",
       "      <td>1</td>\n",
       "      <td>40</td>\n",
       "      <td>117</td>\n",
       "      <td>150000</td>\n",
       "      <td>1</td>\n",
       "      <td>6</td>\n",
       "      <td>38</td>\n",
       "      <td>0</td>\n",
       "      <td>70435</td>\n",
       "      <td>23</td>\n",
       "    </tr>\n",
       "    <tr>\n",
       "      <th>1</th>\n",
       "      <td>1</td>\n",
       "      <td>3</td>\n",
       "      <td>1</td>\n",
       "      <td>190</td>\n",
       "      <td>117</td>\n",
       "      <td>125000</td>\n",
       "      <td>5</td>\n",
       "      <td>1</td>\n",
       "      <td>1</td>\n",
       "      <td>1</td>\n",
       "      <td>66954</td>\n",
       "      <td>5</td>\n",
       "    </tr>\n",
       "    <tr>\n",
       "      <th>2</th>\n",
       "      <td>1</td>\n",
       "      <td>7</td>\n",
       "      <td>0</td>\n",
       "      <td>163</td>\n",
       "      <td>118</td>\n",
       "      <td>125000</td>\n",
       "      <td>8</td>\n",
       "      <td>1</td>\n",
       "      <td>14</td>\n",
       "      <td>0</td>\n",
       "      <td>90480</td>\n",
       "      <td>12</td>\n",
       "    </tr>\n",
       "    <tr>\n",
       "      <th>3</th>\n",
       "      <td>1</td>\n",
       "      <td>5</td>\n",
       "      <td>1</td>\n",
       "      <td>75</td>\n",
       "      <td>117</td>\n",
       "      <td>150000</td>\n",
       "      <td>6</td>\n",
       "      <td>6</td>\n",
       "      <td>38</td>\n",
       "      <td>0</td>\n",
       "      <td>91074</td>\n",
       "      <td>15</td>\n",
       "    </tr>\n",
       "    <tr>\n",
       "      <th>4</th>\n",
       "      <td>1</td>\n",
       "      <td>5</td>\n",
       "      <td>1</td>\n",
       "      <td>69</td>\n",
       "      <td>102</td>\n",
       "      <td>90000</td>\n",
       "      <td>7</td>\n",
       "      <td>1</td>\n",
       "      <td>31</td>\n",
       "      <td>0</td>\n",
       "      <td>60437</td>\n",
       "      <td>8</td>\n",
       "    </tr>\n",
       "  </tbody>\n",
       "</table>\n",
       "</div>"
      ],
      "text/plain": [
       "   abtest  vehicleType  gearbox  powerPS  model  kilometer  \\\n",
       "0       1            4        1       40    117     150000   \n",
       "1       1            3        1      190    117     125000   \n",
       "2       1            7        0      163    118     125000   \n",
       "3       1            5        1       75    117     150000   \n",
       "4       1            5        1       69    102      90000   \n",
       "\n",
       "   monthOfRegistration  fuelType  brand  notRepairedDamage  postalCode  \\\n",
       "0                    1         6     38                  0       70435   \n",
       "1                    5         1      1                  1       66954   \n",
       "2                    8         1     14                  0       90480   \n",
       "3                    6         6     38                  0       91074   \n",
       "4                    7         1     31                  0       60437   \n",
       "\n",
       "   Car_age  \n",
       "0       23  \n",
       "1        5  \n",
       "2       12  \n",
       "3       15  \n",
       "4        8  "
      ]
     },
     "execution_count": 63,
     "metadata": {},
     "output_type": "execute_result"
    }
   ],
   "source": [
    "X.head()"
   ]
  },
  {
   "cell_type": "code",
   "execution_count": 64,
   "id": "c1fb5d1f-f1bf-4eda-87aa-df5a727b5861",
   "metadata": {},
   "outputs": [
    {
     "name": "stdout",
     "output_type": "stream",
     "text": [
      "Train Shape : (283364, 12) --------- Test Shape : (70841, 12)\n"
     ]
    }
   ],
   "source": [
    "from sklearn.model_selection import train_test_split\n",
    "from sklearn.metrics import make_scorer\n",
    "\n",
    "\n",
    "X_train, X_test, y_train, y_test = train_test_split(X, y, test_size=0.2, random_state=15)\n",
    "print(f\"Train Shape : {X_train.shape} --------- Test Shape : {X_test.shape}\")"
   ]
  },
  {
   "cell_type": "code",
   "execution_count": 47,
   "id": "79759ce0-a6ee-42b4-8110-c753a095f5ae",
   "metadata": {},
   "outputs": [],
   "source": [
    "from sklearn.metrics import r2_score\n",
    "\n",
    "scores = {\"r2_score\" : make_scorer(r2_score), \"mae\" : make_scorer(mean_absolute_error), \"mse\" : make_scorer(mean_squared_error)}"
   ]
  },
  {
   "cell_type": "code",
   "execution_count": null,
   "id": "1d1a867b-1ea3-49f9-8a4f-f247e9ac6e31",
   "metadata": {},
   "outputs": [],
   "source": []
  },
  {
   "cell_type": "markdown",
   "id": "f4be8f4b-dd02-4e83-85d5-6e8ef83ef41f",
   "metadata": {},
   "source": [
    "#XGBoost-Regressor"
   ]
  },
  {
   "cell_type": "code",
   "execution_count": 48,
   "id": "72cd895a-8edc-4343-9be0-27bde860ec0d",
   "metadata": {},
   "outputs": [
    {
     "name": "stderr",
     "output_type": "stream",
     "text": [
      "[Parallel(n_jobs=1)]: Using backend SequentialBackend with 1 concurrent workers.\n"
     ]
    },
    {
     "name": "stdout",
     "output_type": "stream",
     "text": [
      "[CV] END .................................................... total time=   9.5s\n"
     ]
    },
    {
     "name": "stderr",
     "output_type": "stream",
     "text": [
      "[Parallel(n_jobs=1)]: Done   1 out of   1 | elapsed:    9.5s remaining:    0.0s\n"
     ]
    },
    {
     "name": "stdout",
     "output_type": "stream",
     "text": [
      "[CV] END .................................................... total time=  10.3s\n",
      "[CV] END .................................................... total time=  10.8s\n",
      "[CV] END .................................................... total time=  11.1s\n",
      "[CV] END .................................................... total time=  11.6s\n"
     ]
    },
    {
     "name": "stderr",
     "output_type": "stream",
     "text": [
      "[Parallel(n_jobs=1)]: Done   5 out of   5 | elapsed:   53.7s finished\n"
     ]
    }
   ],
   "source": [
    "model = xgb.XGBRegressor(tree_method=\"hist\", n_estimators = 1000)\n",
    "result = cross_validate(model, X_train, y_train, cv = 5, verbose = 2, scoring=scores)"
   ]
  },
  {
   "cell_type": "code",
   "execution_count": 49,
   "id": "78ddb27b-5fda-4bda-9813-ae43519fdf56",
   "metadata": {},
   "outputs": [
    {
     "name": "stdout",
     "output_type": "stream",
     "text": [
      "R2 Score : 0.8948905941588821\n"
     ]
    }
   ],
   "source": [
    "model.fit(X_train, y_train)\n",
    "pred = model.predict(X_test)\n",
    "print(f\"R2 Score : {r2_score(y_test, pred)}\")"
   ]
  },
  {
   "cell_type": "code",
   "execution_count": null,
   "id": "5c448b44-cb1f-44a8-a0c8-cca5cfe0123a",
   "metadata": {},
   "outputs": [],
   "source": []
  },
  {
   "cell_type": "code",
   "execution_count": 50,
   "id": "f37fbd1f-0104-4945-b399-cf8098c2c661",
   "metadata": {},
   "outputs": [
    {
     "data": {
      "text/html": [
       "<a href='XGBoost-model.pkl' target='_blank'>XGBoost-model.pkl</a><br>"
      ],
      "text/plain": [
       "C:\\Users\\Admin\\XGBoost-model.pkl"
      ]
     },
     "execution_count": 50,
     "metadata": {},
     "output_type": "execute_result"
    }
   ],
   "source": [
    "import pickle\n",
    "\n",
    "# Assuming 'model' is your trained model\n",
    "filename = 'XGBoost-model.pkl'\n",
    "\n",
    "# Save the model to disk\n",
    "with open(filename, 'wb') as file:\n",
    "    pickle.dump(model, file)\n",
    "\n",
    "from IPython.display import FileLink\n",
    "\n",
    "# Provide a link to download the file\n",
    "FileLink('XGBoost-model.pkl')\n",
    "\n"
   ]
  },
  {
   "cell_type": "markdown",
   "id": "570b16d6-95f4-4a26-8b1d-1c556604f44c",
   "metadata": {},
   "source": [
    "--------------------------------------XGBoost using Standard Scalar------------------------------------------------"
   ]
  },
  {
   "cell_type": "code",
   "execution_count": 53,
   "id": "1f276866-2a8b-4bbf-81b2-bd3cec08c927",
   "metadata": {},
   "outputs": [
    {
     "name": "stdout",
     "output_type": "stream",
     "text": [
      "\n",
      "DataFrame after Standard Scaling:\n"
     ]
    },
    {
     "data": {
      "text/html": [
       "<div>\n",
       "<style scoped>\n",
       "    .dataframe tbody tr th:only-of-type {\n",
       "        vertical-align: middle;\n",
       "    }\n",
       "\n",
       "    .dataframe tbody tr th {\n",
       "        vertical-align: top;\n",
       "    }\n",
       "\n",
       "    .dataframe thead th {\n",
       "        text-align: right;\n",
       "    }\n",
       "</style>\n",
       "<table border=\"1\" class=\"dataframe\">\n",
       "  <thead>\n",
       "    <tr style=\"text-align: right;\">\n",
       "      <th></th>\n",
       "      <th>abtest</th>\n",
       "      <th>vehicleType</th>\n",
       "      <th>gearbox</th>\n",
       "      <th>powerPS</th>\n",
       "      <th>model</th>\n",
       "      <th>kilometer</th>\n",
       "      <th>monthOfRegistration</th>\n",
       "      <th>fuelType</th>\n",
       "      <th>brand</th>\n",
       "      <th>notRepairedDamage</th>\n",
       "      <th>postalCode</th>\n",
       "      <th>Car_age</th>\n",
       "    </tr>\n",
       "  </thead>\n",
       "  <tbody>\n",
       "    <tr>\n",
       "      <th>0</th>\n",
       "      <td>0.964959</td>\n",
       "      <td>-0.162972</td>\n",
       "      <td>0.506217</td>\n",
       "      <td>-1.277229</td>\n",
       "      <td>0.223932</td>\n",
       "      <td>0.600099</td>\n",
       "      <td>-1.378200</td>\n",
       "      <td>0.665865</td>\n",
       "      <td>1.295840</td>\n",
       "      <td>-0.325697</td>\n",
       "      <td>0.757835</td>\n",
       "      <td>1.598730</td>\n",
       "    </tr>\n",
       "    <tr>\n",
       "      <th>1</th>\n",
       "      <td>0.964959</td>\n",
       "      <td>-0.805910</td>\n",
       "      <td>0.506217</td>\n",
       "      <td>1.277161</td>\n",
       "      <td>0.223932</td>\n",
       "      <td>-0.042903</td>\n",
       "      <td>-0.251802</td>\n",
       "      <td>-1.526575</td>\n",
       "      <td>-1.473913</td>\n",
       "      <td>3.070341</td>\n",
       "      <td>0.622635</td>\n",
       "      <td>-1.184557</td>\n",
       "    </tr>\n",
       "    <tr>\n",
       "      <th>2</th>\n",
       "      <td>0.964959</td>\n",
       "      <td>1.765841</td>\n",
       "      <td>-1.975438</td>\n",
       "      <td>0.817371</td>\n",
       "      <td>0.238297</td>\n",
       "      <td>-0.042903</td>\n",
       "      <td>0.592996</td>\n",
       "      <td>-1.526575</td>\n",
       "      <td>-0.500756</td>\n",
       "      <td>-0.325697</td>\n",
       "      <td>1.536368</td>\n",
       "      <td>-0.102168</td>\n",
       "    </tr>\n",
       "    <tr>\n",
       "      <th>3</th>\n",
       "      <td>0.964959</td>\n",
       "      <td>0.479966</td>\n",
       "      <td>0.506217</td>\n",
       "      <td>-0.681205</td>\n",
       "      <td>0.223932</td>\n",
       "      <td>0.600099</td>\n",
       "      <td>0.029797</td>\n",
       "      <td>0.665865</td>\n",
       "      <td>1.295840</td>\n",
       "      <td>-0.325697</td>\n",
       "      <td>1.559438</td>\n",
       "      <td>0.361714</td>\n",
       "    </tr>\n",
       "    <tr>\n",
       "      <th>4</th>\n",
       "      <td>0.964959</td>\n",
       "      <td>0.479966</td>\n",
       "      <td>0.506217</td>\n",
       "      <td>-0.783381</td>\n",
       "      <td>0.008459</td>\n",
       "      <td>-0.943105</td>\n",
       "      <td>0.311397</td>\n",
       "      <td>-1.526575</td>\n",
       "      <td>0.771833</td>\n",
       "      <td>-0.325697</td>\n",
       "      <td>0.369520</td>\n",
       "      <td>-0.720676</td>\n",
       "    </tr>\n",
       "  </tbody>\n",
       "</table>\n",
       "</div>"
      ],
      "text/plain": [
       "     abtest  vehicleType   gearbox   powerPS     model  kilometer  \\\n",
       "0  0.964959    -0.162972  0.506217 -1.277229  0.223932   0.600099   \n",
       "1  0.964959    -0.805910  0.506217  1.277161  0.223932  -0.042903   \n",
       "2  0.964959     1.765841 -1.975438  0.817371  0.238297  -0.042903   \n",
       "3  0.964959     0.479966  0.506217 -0.681205  0.223932   0.600099   \n",
       "4  0.964959     0.479966  0.506217 -0.783381  0.008459  -0.943105   \n",
       "\n",
       "   monthOfRegistration  fuelType     brand  notRepairedDamage  postalCode  \\\n",
       "0            -1.378200  0.665865  1.295840          -0.325697    0.757835   \n",
       "1            -0.251802 -1.526575 -1.473913           3.070341    0.622635   \n",
       "2             0.592996 -1.526575 -0.500756          -0.325697    1.536368   \n",
       "3             0.029797  0.665865  1.295840          -0.325697    1.559438   \n",
       "4             0.311397 -1.526575  0.771833          -0.325697    0.369520   \n",
       "\n",
       "    Car_age  \n",
       "0  1.598730  \n",
       "1 -1.184557  \n",
       "2 -0.102168  \n",
       "3  0.361714  \n",
       "4 -0.720676  "
      ]
     },
     "execution_count": 53,
     "metadata": {},
     "output_type": "execute_result"
    }
   ],
   "source": [
    "from sklearn.preprocessing import StandardScaler\n",
    "# Initialize StandardScaler\n",
    "scaler = StandardScaler()\n",
    "\n",
    "# Fit the scaler to the data and transform it\n",
    "scaled_data = scaler.fit_transform(X)\n",
    "\n",
    "# Convert the scaled data back into a DataFrame for easy viewing\n",
    "scaled_df = pd.DataFrame(scaled_data, columns=X.columns)\n",
    "print(\"\\nDataFrame after Standard Scaling:\")\n",
    "scaled_df.head()"
   ]
  },
  {
   "cell_type": "code",
   "execution_count": 54,
   "id": "5bcaf5cb-0f60-46a2-b2f6-468013cd9608",
   "metadata": {},
   "outputs": [
    {
     "name": "stdout",
     "output_type": "stream",
     "text": [
      "Train Shape : (283364, 12) --------- Test Shape : (70841, 12)\n"
     ]
    }
   ],
   "source": [
    "X_train, X_test, y_train, y_test = train_test_split(X, y, test_size=0.2, random_state=15)\n",
    "print(f\"Train Shape : {X_train.shape} --------- Test Shape : {X_test.shape}\")"
   ]
  },
  {
   "cell_type": "code",
   "execution_count": 55,
   "id": "41d37f47-b232-4c6b-9e1f-a319936431ec",
   "metadata": {},
   "outputs": [],
   "source": [
    "scores = {\"r2_score\" : make_scorer(r2_score), \"mae\" : make_scorer(mean_absolute_error), \"mse\" : make_scorer(mean_squared_error)}"
   ]
  },
  {
   "cell_type": "code",
   "execution_count": 56,
   "id": "01b0724d-444a-45df-bbdc-d2aa6bbaea0d",
   "metadata": {},
   "outputs": [
    {
     "name": "stderr",
     "output_type": "stream",
     "text": [
      "[Parallel(n_jobs=1)]: Using backend SequentialBackend with 1 concurrent workers.\n"
     ]
    },
    {
     "name": "stdout",
     "output_type": "stream",
     "text": [
      "[CV] END .................................................... total time=  10.0s\n"
     ]
    },
    {
     "name": "stderr",
     "output_type": "stream",
     "text": [
      "[Parallel(n_jobs=1)]: Done   1 out of   1 | elapsed:   10.1s remaining:    0.0s\n"
     ]
    },
    {
     "name": "stdout",
     "output_type": "stream",
     "text": [
      "[CV] END .................................................... total time=  10.1s\n",
      "[CV] END .................................................... total time=  10.4s\n",
      "[CV] END .................................................... total time=  10.9s\n",
      "[CV] END .................................................... total time=  11.2s\n"
     ]
    },
    {
     "name": "stderr",
     "output_type": "stream",
     "text": [
      "[Parallel(n_jobs=1)]: Done   5 out of   5 | elapsed:   53.2s finished\n"
     ]
    }
   ],
   "source": [
    "model = xgb.XGBRegressor(tree_method=\"hist\", n_estimators = 1000)\n",
    "result = cross_validate(model, X_train, y_train, cv = 5, verbose = 2, scoring=scores)"
   ]
  },
  {
   "cell_type": "code",
   "execution_count": 57,
   "id": "34fd1ebe-18da-4088-b946-5dc9bb8cfbb8",
   "metadata": {},
   "outputs": [
    {
     "name": "stdout",
     "output_type": "stream",
     "text": [
      "R2 Score : 0.8948905941588821\n"
     ]
    }
   ],
   "source": [
    "model.fit(X_train, y_train)\n",
    "pred = model.predict(X_test)\n",
    "print(f\"R2 Score : {r2_score(y_test, pred)}\")"
   ]
  },
  {
   "cell_type": "markdown",
   "id": "9e814496-4fd5-43bd-94c4-7495da29ddcc",
   "metadata": {},
   "source": [
    "----------------------------------------------------------------"
   ]
  },
  {
   "cell_type": "markdown",
   "id": "8bb73b8e-6f5e-4227-ac15-3df2f0004dcb",
   "metadata": {},
   "source": [
    "--------------------------Linear Regression------------------------"
   ]
  },
  {
   "cell_type": "code",
   "execution_count": 65,
   "id": "c3f61209-6aa5-405a-9411-37dae6fac8ea",
   "metadata": {},
   "outputs": [
    {
     "data": {
      "text/html": [
       "<style>#sk-container-id-3 {color: black;background-color: white;}#sk-container-id-3 pre{padding: 0;}#sk-container-id-3 div.sk-toggleable {background-color: white;}#sk-container-id-3 label.sk-toggleable__label {cursor: pointer;display: block;width: 100%;margin-bottom: 0;padding: 0.3em;box-sizing: border-box;text-align: center;}#sk-container-id-3 label.sk-toggleable__label-arrow:before {content: \"▸\";float: left;margin-right: 0.25em;color: #696969;}#sk-container-id-3 label.sk-toggleable__label-arrow:hover:before {color: black;}#sk-container-id-3 div.sk-estimator:hover label.sk-toggleable__label-arrow:before {color: black;}#sk-container-id-3 div.sk-toggleable__content {max-height: 0;max-width: 0;overflow: hidden;text-align: left;background-color: #f0f8ff;}#sk-container-id-3 div.sk-toggleable__content pre {margin: 0.2em;color: black;border-radius: 0.25em;background-color: #f0f8ff;}#sk-container-id-3 input.sk-toggleable__control:checked~div.sk-toggleable__content {max-height: 200px;max-width: 100%;overflow: auto;}#sk-container-id-3 input.sk-toggleable__control:checked~label.sk-toggleable__label-arrow:before {content: \"▾\";}#sk-container-id-3 div.sk-estimator input.sk-toggleable__control:checked~label.sk-toggleable__label {background-color: #d4ebff;}#sk-container-id-3 div.sk-label input.sk-toggleable__control:checked~label.sk-toggleable__label {background-color: #d4ebff;}#sk-container-id-3 input.sk-hidden--visually {border: 0;clip: rect(1px 1px 1px 1px);clip: rect(1px, 1px, 1px, 1px);height: 1px;margin: -1px;overflow: hidden;padding: 0;position: absolute;width: 1px;}#sk-container-id-3 div.sk-estimator {font-family: monospace;background-color: #f0f8ff;border: 1px dotted black;border-radius: 0.25em;box-sizing: border-box;margin-bottom: 0.5em;}#sk-container-id-3 div.sk-estimator:hover {background-color: #d4ebff;}#sk-container-id-3 div.sk-parallel-item::after {content: \"\";width: 100%;border-bottom: 1px solid gray;flex-grow: 1;}#sk-container-id-3 div.sk-label:hover label.sk-toggleable__label {background-color: #d4ebff;}#sk-container-id-3 div.sk-serial::before {content: \"\";position: absolute;border-left: 1px solid gray;box-sizing: border-box;top: 0;bottom: 0;left: 50%;z-index: 0;}#sk-container-id-3 div.sk-serial {display: flex;flex-direction: column;align-items: center;background-color: white;padding-right: 0.2em;padding-left: 0.2em;position: relative;}#sk-container-id-3 div.sk-item {position: relative;z-index: 1;}#sk-container-id-3 div.sk-parallel {display: flex;align-items: stretch;justify-content: center;background-color: white;position: relative;}#sk-container-id-3 div.sk-item::before, #sk-container-id-3 div.sk-parallel-item::before {content: \"\";position: absolute;border-left: 1px solid gray;box-sizing: border-box;top: 0;bottom: 0;left: 50%;z-index: -1;}#sk-container-id-3 div.sk-parallel-item {display: flex;flex-direction: column;z-index: 1;position: relative;background-color: white;}#sk-container-id-3 div.sk-parallel-item:first-child::after {align-self: flex-end;width: 50%;}#sk-container-id-3 div.sk-parallel-item:last-child::after {align-self: flex-start;width: 50%;}#sk-container-id-3 div.sk-parallel-item:only-child::after {width: 0;}#sk-container-id-3 div.sk-dashed-wrapped {border: 1px dashed gray;margin: 0 0.4em 0.5em 0.4em;box-sizing: border-box;padding-bottom: 0.4em;background-color: white;}#sk-container-id-3 div.sk-label label {font-family: monospace;font-weight: bold;display: inline-block;line-height: 1.2em;}#sk-container-id-3 div.sk-label-container {text-align: center;}#sk-container-id-3 div.sk-container {/* jupyter's `normalize.less` sets `[hidden] { display: none; }` but bootstrap.min.css set `[hidden] { display: none !important; }` so we also need the `!important` here to be able to override the default hidden behavior on the sphinx rendered scikit-learn.org. See: https://github.com/scikit-learn/scikit-learn/issues/21755 */display: inline-block !important;position: relative;}#sk-container-id-3 div.sk-text-repr-fallback {display: none;}</style><div id=\"sk-container-id-3\" class=\"sk-top-container\"><div class=\"sk-text-repr-fallback\"><pre>LinearRegression()</pre><b>In a Jupyter environment, please rerun this cell to show the HTML representation or trust the notebook. <br />On GitHub, the HTML representation is unable to render, please try loading this page with nbviewer.org.</b></div><div class=\"sk-container\" hidden><div class=\"sk-item\"><div class=\"sk-estimator sk-toggleable\"><input class=\"sk-toggleable__control sk-hidden--visually\" id=\"sk-estimator-id-3\" type=\"checkbox\" checked><label for=\"sk-estimator-id-3\" class=\"sk-toggleable__label sk-toggleable__label-arrow\">LinearRegression</label><div class=\"sk-toggleable__content\"><pre>LinearRegression()</pre></div></div></div></div></div>"
      ],
      "text/plain": [
       "LinearRegression()"
      ]
     },
     "execution_count": 65,
     "metadata": {},
     "output_type": "execute_result"
    }
   ],
   "source": [
    "modellr =LinearRegression() \n",
    "\n",
    "modellr.fit(X_train, y_train)\n"
   ]
  },
  {
   "cell_type": "code",
   "execution_count": 66,
   "id": "c6e3ac7c-9167-408f-850b-c95d801ee31b",
   "metadata": {},
   "outputs": [
    {
     "name": "stdout",
     "output_type": "stream",
     "text": [
      "Linear Regression:\n",
      "R² (Accuracy): 0.6055\n"
     ]
    }
   ],
   "source": [
    "# Predict on the test data\n",
    "y_pred = modellr.predict(X_test)\n",
    "\n",
    "# Calculate R² (accuracy for regression)\n",
    "r2 = r2_score(y_test, y_pred)\n",
    "\n",
    "# Print the results\n",
    "print(f\"Linear Regression:\")\n",
    "print(f\"R² (Accuracy): {r2:.4f}\")"
   ]
  },
  {
   "cell_type": "code",
   "execution_count": 77,
   "id": "a35cb1a7-a4dd-492f-8a55-5b854e9aa909",
   "metadata": {},
   "outputs": [],
   "source": [
    "new=np.array([1,4,1,40,117,15000,1,6,38,0,70435,23])\n",
    "# Reshape to 2D array (1 observation, 12 features)\n",
    "new_data= new.reshape(1,-1)"
   ]
  },
  {
   "cell_type": "code",
   "execution_count": 78,
   "id": "815dd263-0543-4e2e-a71b-956363e19052",
   "metadata": {},
   "outputs": [
    {
     "name": "stderr",
     "output_type": "stream",
     "text": [
      "C:\\Users\\Admin\\anaconda3\\Lib\\site-packages\\sklearn\\base.py:439: UserWarning: X does not have valid feature names, but LinearRegression was fitted with feature names\n",
      "  warnings.warn(\n"
     ]
    },
    {
     "data": {
      "text/plain": [
       "array([5430.56290978])"
      ]
     },
     "execution_count": 78,
     "metadata": {},
     "output_type": "execute_result"
    }
   ],
   "source": [
    "modellr.predict(new_data)"
   ]
  },
  {
   "cell_type": "code",
   "execution_count": 91,
   "id": "ffc266a2-6541-4015-a016-4a7453ed3592",
   "metadata": {},
   "outputs": [
    {
     "data": {
      "text/html": [
       "<a href='Linear-Regression-model.pkl' target='_blank'>Linear-Regression-model.pkl</a><br>"
      ],
      "text/plain": [
       "C:\\Users\\Admin\\Linear-Regression-model.pkl"
      ]
     },
     "execution_count": 91,
     "metadata": {},
     "output_type": "execute_result"
    }
   ],
   "source": [
    "# Assuming 'model' is your trained model\n",
    "filename = 'Linear-Regression-model.pkl'\n",
    "\n",
    "# Save the model to disk\n",
    "with open(filename, 'wb') as file:\n",
    "    pickle.dump(modellr, file)\n",
    "\n",
    "from IPython.display import FileLink\n",
    "\n",
    "# Provide a link to download the file\n",
    "FileLink('Linear-Regression-model.pkl')\n"
   ]
  },
  {
   "cell_type": "code",
   "execution_count": 72,
   "id": "41c66bb1-e7fd-4f70-a8cd-a4ffe1011578",
   "metadata": {},
   "outputs": [
    {
     "data": {
      "text/plain": [
       "(354205, 12)"
      ]
     },
     "execution_count": 72,
     "metadata": {},
     "output_type": "execute_result"
    }
   ],
   "source": [
    "X.shape"
   ]
  },
  {
   "cell_type": "markdown",
   "id": "6d950d87-d53b-4e83-84c1-3d9c9cf8965e",
   "metadata": {},
   "source": [
    "#Decision-Tree-Regressor---"
   ]
  },
  {
   "cell_type": "code",
   "execution_count": 93,
   "id": "2a4d9007-40c5-4d4c-98a2-5cd8f75f3344",
   "metadata": {},
   "outputs": [
    {
     "data": {
      "text/html": [
       "<style>#sk-container-id-4 {color: black;background-color: white;}#sk-container-id-4 pre{padding: 0;}#sk-container-id-4 div.sk-toggleable {background-color: white;}#sk-container-id-4 label.sk-toggleable__label {cursor: pointer;display: block;width: 100%;margin-bottom: 0;padding: 0.3em;box-sizing: border-box;text-align: center;}#sk-container-id-4 label.sk-toggleable__label-arrow:before {content: \"▸\";float: left;margin-right: 0.25em;color: #696969;}#sk-container-id-4 label.sk-toggleable__label-arrow:hover:before {color: black;}#sk-container-id-4 div.sk-estimator:hover label.sk-toggleable__label-arrow:before {color: black;}#sk-container-id-4 div.sk-toggleable__content {max-height: 0;max-width: 0;overflow: hidden;text-align: left;background-color: #f0f8ff;}#sk-container-id-4 div.sk-toggleable__content pre {margin: 0.2em;color: black;border-radius: 0.25em;background-color: #f0f8ff;}#sk-container-id-4 input.sk-toggleable__control:checked~div.sk-toggleable__content {max-height: 200px;max-width: 100%;overflow: auto;}#sk-container-id-4 input.sk-toggleable__control:checked~label.sk-toggleable__label-arrow:before {content: \"▾\";}#sk-container-id-4 div.sk-estimator input.sk-toggleable__control:checked~label.sk-toggleable__label {background-color: #d4ebff;}#sk-container-id-4 div.sk-label input.sk-toggleable__control:checked~label.sk-toggleable__label {background-color: #d4ebff;}#sk-container-id-4 input.sk-hidden--visually {border: 0;clip: rect(1px 1px 1px 1px);clip: rect(1px, 1px, 1px, 1px);height: 1px;margin: -1px;overflow: hidden;padding: 0;position: absolute;width: 1px;}#sk-container-id-4 div.sk-estimator {font-family: monospace;background-color: #f0f8ff;border: 1px dotted black;border-radius: 0.25em;box-sizing: border-box;margin-bottom: 0.5em;}#sk-container-id-4 div.sk-estimator:hover {background-color: #d4ebff;}#sk-container-id-4 div.sk-parallel-item::after {content: \"\";width: 100%;border-bottom: 1px solid gray;flex-grow: 1;}#sk-container-id-4 div.sk-label:hover label.sk-toggleable__label {background-color: #d4ebff;}#sk-container-id-4 div.sk-serial::before {content: \"\";position: absolute;border-left: 1px solid gray;box-sizing: border-box;top: 0;bottom: 0;left: 50%;z-index: 0;}#sk-container-id-4 div.sk-serial {display: flex;flex-direction: column;align-items: center;background-color: white;padding-right: 0.2em;padding-left: 0.2em;position: relative;}#sk-container-id-4 div.sk-item {position: relative;z-index: 1;}#sk-container-id-4 div.sk-parallel {display: flex;align-items: stretch;justify-content: center;background-color: white;position: relative;}#sk-container-id-4 div.sk-item::before, #sk-container-id-4 div.sk-parallel-item::before {content: \"\";position: absolute;border-left: 1px solid gray;box-sizing: border-box;top: 0;bottom: 0;left: 50%;z-index: -1;}#sk-container-id-4 div.sk-parallel-item {display: flex;flex-direction: column;z-index: 1;position: relative;background-color: white;}#sk-container-id-4 div.sk-parallel-item:first-child::after {align-self: flex-end;width: 50%;}#sk-container-id-4 div.sk-parallel-item:last-child::after {align-self: flex-start;width: 50%;}#sk-container-id-4 div.sk-parallel-item:only-child::after {width: 0;}#sk-container-id-4 div.sk-dashed-wrapped {border: 1px dashed gray;margin: 0 0.4em 0.5em 0.4em;box-sizing: border-box;padding-bottom: 0.4em;background-color: white;}#sk-container-id-4 div.sk-label label {font-family: monospace;font-weight: bold;display: inline-block;line-height: 1.2em;}#sk-container-id-4 div.sk-label-container {text-align: center;}#sk-container-id-4 div.sk-container {/* jupyter's `normalize.less` sets `[hidden] { display: none; }` but bootstrap.min.css set `[hidden] { display: none !important; }` so we also need the `!important` here to be able to override the default hidden behavior on the sphinx rendered scikit-learn.org. See: https://github.com/scikit-learn/scikit-learn/issues/21755 */display: inline-block !important;position: relative;}#sk-container-id-4 div.sk-text-repr-fallback {display: none;}</style><div id=\"sk-container-id-4\" class=\"sk-top-container\"><div class=\"sk-text-repr-fallback\"><pre>DecisionTreeRegressor(random_state=1)</pre><b>In a Jupyter environment, please rerun this cell to show the HTML representation or trust the notebook. <br />On GitHub, the HTML representation is unable to render, please try loading this page with nbviewer.org.</b></div><div class=\"sk-container\" hidden><div class=\"sk-item\"><div class=\"sk-estimator sk-toggleable\"><input class=\"sk-toggleable__control sk-hidden--visually\" id=\"sk-estimator-id-4\" type=\"checkbox\" checked><label for=\"sk-estimator-id-4\" class=\"sk-toggleable__label sk-toggleable__label-arrow\">DecisionTreeRegressor</label><div class=\"sk-toggleable__content\"><pre>DecisionTreeRegressor(random_state=1)</pre></div></div></div></div></div>"
      ],
      "text/plain": [
       "DecisionTreeRegressor(random_state=1)"
      ]
     },
     "execution_count": 93,
     "metadata": {},
     "output_type": "execute_result"
    }
   ],
   "source": [
    "# Initialize the model\n",
    "model = DecisionTreeRegressor(random_state=1)\n",
    "\n",
    "# Train the model\n",
    "model.fit(X_train, y_train)"
   ]
  },
  {
   "cell_type": "code",
   "execution_count": 94,
   "id": "5ccd4cc2-8bf9-4903-b4c3-1493cd12aa67",
   "metadata": {},
   "outputs": [
    {
     "name": "stdout",
     "output_type": "stream",
     "text": [
      "R² Score: 0.792013979951945\n"
     ]
    }
   ],
   "source": [
    "# Make predictions on the test set\n",
    "y_pred = model.predict(X_test)\n",
    "\n",
    "# Calculate R² Score\n",
    "r2 = r2_score(y_test, y_pred)\n",
    "print(f\"R² Score: {r2}\")"
   ]
  },
  {
   "cell_type": "code",
   "execution_count": 96,
   "id": "f31248f6-c2ee-47e9-bc72-f699cd0e9939",
   "metadata": {},
   "outputs": [
    {
     "data": {
      "text/html": [
       "<a href='Decisiontree-model.pkl' target='_blank'>Decisiontree-model.pkl</a><br>"
      ],
      "text/plain": [
       "C:\\Users\\Admin\\Decisiontree-model.pkl"
      ]
     },
     "execution_count": 96,
     "metadata": {},
     "output_type": "execute_result"
    }
   ],
   "source": [
    "# Assuming 'model' is your trained model\n",
    "filename = 'Decisiontree-model.pkl'\n",
    "\n",
    "# Save the model to disk\n",
    "with open(filename, 'wb') as file:\n",
    "    pickle.dump(model, file)\n",
    "\n",
    "from IPython.display import FileLink\n",
    "\n",
    "# Provide a link to download the file\n",
    "FileLink('Decisiontree-model.pkl')\n"
   ]
  },
  {
   "cell_type": "markdown",
   "id": "713c1a4d-7abf-4a0a-ab08-950cbcc3ced9",
   "metadata": {},
   "source": [
    "#-----------------Time bhetla tar------------------------------------"
   ]
  },
  {
   "cell_type": "code",
   "execution_count": null,
   "id": "0190107d-1e4d-4b28-b20f-135a53f86c1a",
   "metadata": {},
   "outputs": [],
   "source": [
    "from sklearn.model_selection import GridSearchCV\n",
    "\n",
    "# Define the parameter grid\n",
    "param_grid = {\n",
    "    'max_depth': [3, 5, 7, 10],\n",
    "    'min_samples_split': [2, 5, 10],\n",
    "    'min_samples_leaf': [1, 2, 4]\n",
    "}\n",
    "\n",
    "# Initialize the grid search\n",
    "grid_search = GridSearchCV(DecisionTreeRegressor(random_state=42), param_grid, cv=5)\n",
    "\n",
    "# Fit the grid search\n",
    "grid_search.fit(X_train, y_train)\n",
    "\n",
    "# Best parameters and score\n",
    "print(\"Best Parameters:\", grid_search.best_params_)\n",
    "print(\"Best Score:\", grid_search.best_score_)\n",
    "\n",
    "# Use the best estimator to make predictions\n",
    "best_model = grid_search.best_estimator_\n",
    "y_pred_best = best_model.predict(X_test)\n",
    "\n",
    "# Evaluate the tuned model\n",
    "r2_best = r2_score(y_test, y_pred_best)\n",
    "print(f\"Tuned R² Score: {r2_best}\")\n"
   ]
  },
  {
   "cell_type": "markdown",
   "id": "e9b08bf2-20cb-468d-9ec5-66dc47901acb",
   "metadata": {},
   "source": [
    "---------------------------------------------------------------------"
   ]
  },
  {
   "cell_type": "code",
   "execution_count": null,
   "id": "648fc53f-d2e5-4cca-8f2c-203c89000fc3",
   "metadata": {},
   "outputs": [],
   "source": []
  },
  {
   "cell_type": "code",
   "execution_count": 97,
   "id": "f86ed34a-0cfb-4149-a1c4-79b4e6886035",
   "metadata": {},
   "outputs": [],
   "source": [
    "#------------------SVR----------------------------"
   ]
  },
  {
   "cell_type": "code",
   "execution_count": 100,
   "id": "df1d8595-2da3-4720-8f31-3a5587307b09",
   "metadata": {},
   "outputs": [
    {
     "data": {
      "text/html": [
       "<style>#sk-container-id-5 {color: black;background-color: white;}#sk-container-id-5 pre{padding: 0;}#sk-container-id-5 div.sk-toggleable {background-color: white;}#sk-container-id-5 label.sk-toggleable__label {cursor: pointer;display: block;width: 100%;margin-bottom: 0;padding: 0.3em;box-sizing: border-box;text-align: center;}#sk-container-id-5 label.sk-toggleable__label-arrow:before {content: \"▸\";float: left;margin-right: 0.25em;color: #696969;}#sk-container-id-5 label.sk-toggleable__label-arrow:hover:before {color: black;}#sk-container-id-5 div.sk-estimator:hover label.sk-toggleable__label-arrow:before {color: black;}#sk-container-id-5 div.sk-toggleable__content {max-height: 0;max-width: 0;overflow: hidden;text-align: left;background-color: #f0f8ff;}#sk-container-id-5 div.sk-toggleable__content pre {margin: 0.2em;color: black;border-radius: 0.25em;background-color: #f0f8ff;}#sk-container-id-5 input.sk-toggleable__control:checked~div.sk-toggleable__content {max-height: 200px;max-width: 100%;overflow: auto;}#sk-container-id-5 input.sk-toggleable__control:checked~label.sk-toggleable__label-arrow:before {content: \"▾\";}#sk-container-id-5 div.sk-estimator input.sk-toggleable__control:checked~label.sk-toggleable__label {background-color: #d4ebff;}#sk-container-id-5 div.sk-label input.sk-toggleable__control:checked~label.sk-toggleable__label {background-color: #d4ebff;}#sk-container-id-5 input.sk-hidden--visually {border: 0;clip: rect(1px 1px 1px 1px);clip: rect(1px, 1px, 1px, 1px);height: 1px;margin: -1px;overflow: hidden;padding: 0;position: absolute;width: 1px;}#sk-container-id-5 div.sk-estimator {font-family: monospace;background-color: #f0f8ff;border: 1px dotted black;border-radius: 0.25em;box-sizing: border-box;margin-bottom: 0.5em;}#sk-container-id-5 div.sk-estimator:hover {background-color: #d4ebff;}#sk-container-id-5 div.sk-parallel-item::after {content: \"\";width: 100%;border-bottom: 1px solid gray;flex-grow: 1;}#sk-container-id-5 div.sk-label:hover label.sk-toggleable__label {background-color: #d4ebff;}#sk-container-id-5 div.sk-serial::before {content: \"\";position: absolute;border-left: 1px solid gray;box-sizing: border-box;top: 0;bottom: 0;left: 50%;z-index: 0;}#sk-container-id-5 div.sk-serial {display: flex;flex-direction: column;align-items: center;background-color: white;padding-right: 0.2em;padding-left: 0.2em;position: relative;}#sk-container-id-5 div.sk-item {position: relative;z-index: 1;}#sk-container-id-5 div.sk-parallel {display: flex;align-items: stretch;justify-content: center;background-color: white;position: relative;}#sk-container-id-5 div.sk-item::before, #sk-container-id-5 div.sk-parallel-item::before {content: \"\";position: absolute;border-left: 1px solid gray;box-sizing: border-box;top: 0;bottom: 0;left: 50%;z-index: -1;}#sk-container-id-5 div.sk-parallel-item {display: flex;flex-direction: column;z-index: 1;position: relative;background-color: white;}#sk-container-id-5 div.sk-parallel-item:first-child::after {align-self: flex-end;width: 50%;}#sk-container-id-5 div.sk-parallel-item:last-child::after {align-self: flex-start;width: 50%;}#sk-container-id-5 div.sk-parallel-item:only-child::after {width: 0;}#sk-container-id-5 div.sk-dashed-wrapped {border: 1px dashed gray;margin: 0 0.4em 0.5em 0.4em;box-sizing: border-box;padding-bottom: 0.4em;background-color: white;}#sk-container-id-5 div.sk-label label {font-family: monospace;font-weight: bold;display: inline-block;line-height: 1.2em;}#sk-container-id-5 div.sk-label-container {text-align: center;}#sk-container-id-5 div.sk-container {/* jupyter's `normalize.less` sets `[hidden] { display: none; }` but bootstrap.min.css set `[hidden] { display: none !important; }` so we also need the `!important` here to be able to override the default hidden behavior on the sphinx rendered scikit-learn.org. See: https://github.com/scikit-learn/scikit-learn/issues/21755 */display: inline-block !important;position: relative;}#sk-container-id-5 div.sk-text-repr-fallback {display: none;}</style><div id=\"sk-container-id-5\" class=\"sk-top-container\"><div class=\"sk-text-repr-fallback\"><pre>SVR()</pre><b>In a Jupyter environment, please rerun this cell to show the HTML representation or trust the notebook. <br />On GitHub, the HTML representation is unable to render, please try loading this page with nbviewer.org.</b></div><div class=\"sk-container\" hidden><div class=\"sk-item\"><div class=\"sk-estimator sk-toggleable\"><input class=\"sk-toggleable__control sk-hidden--visually\" id=\"sk-estimator-id-5\" type=\"checkbox\" checked><label for=\"sk-estimator-id-5\" class=\"sk-toggleable__label sk-toggleable__label-arrow\">SVR</label><div class=\"sk-toggleable__content\"><pre>SVR()</pre></div></div></div></div></div>"
      ],
      "text/plain": [
       "SVR()"
      ]
     },
     "execution_count": 100,
     "metadata": {},
     "output_type": "execute_result"
    }
   ],
   "source": [
    "# Initialize the StandardScaler\n",
    "scaler = StandardScaler()\n",
    "\n",
    "# Fit and transform the training data\n",
    "X_train_scaled = scaler.fit_transform(X_train)\n",
    "\n",
    "# Transform the test data\n",
    "X_test_scaled = scaler.transform(X_test)\n",
    "\n",
    "# Initialize the SVR model\n",
    "modelsvr = SVR(kernel='rbf') \n",
    "\n",
    "# Train the model\n",
    "modelsvr.fit(X_train_scaled, y_train)\n"
   ]
  },
  {
   "cell_type": "code",
   "execution_count": null,
   "id": "105d88ea-88d6-4142-9a0c-9d4b7a757c5b",
   "metadata": {},
   "outputs": [],
   "source": [
    "# Make predictions on the test set\n",
    "y_pred = modelsvr.predict(X_test_scaled)\n",
    "\n",
    "# Calculate R² Score\n",
    "r2 = r2_score(y_test, y_pred)\n",
    "print(f\"R² Score: {r2}\")\n"
   ]
  },
  {
   "cell_type": "code",
   "execution_count": null,
   "id": "1087a1f2-4ffa-4b36-b33e-0d1ac6f1a1f1",
   "metadata": {},
   "outputs": [],
   "source": [
    "# Assuming 'model' is your trained model\n",
    "filename = 'SVR-model.pkl'\n",
    "\n",
    "# Save the model to disk\n",
    "with open(filename, 'wb') as file:\n",
    "    pickle.dump(model, file)\n",
    "\n",
    "from IPython.display import FileLink\n",
    "\n",
    "# Provide a link to download the file\n",
    "FileLink('SVR-model.pkl')\n"
   ]
  },
  {
   "cell_type": "code",
   "execution_count": null,
   "id": "dd0cc527-ef68-48a6-adcc-68148ed13ce5",
   "metadata": {},
   "outputs": [],
   "source": []
  },
  {
   "cell_type": "code",
   "execution_count": null,
   "id": "bc7b9419-4d08-4d35-ad7b-06eca16a55d4",
   "metadata": {},
   "outputs": [],
   "source": [
    "#--------------------------Random-Forest-Regressor-------------------------"
   ]
  },
  {
   "cell_type": "code",
   "execution_count": null,
   "id": "ac35e46b-bfe5-48e3-abe9-79d7004399ca",
   "metadata": {},
   "outputs": [],
   "source": [
    "# Initialize the Random Forest Regressor\n",
    "modelrfr = RandomForestRegressor(n_estimators=100, random_state=1)\n",
    "\n",
    "# Train the model\n",
    "modelrfr.fit(X_train, y_train)\n"
   ]
  },
  {
   "cell_type": "code",
   "execution_count": null,
   "id": "d1c59e78-af28-43bc-bed3-917f2094b152",
   "metadata": {},
   "outputs": [],
   "source": [
    "# Make predictions on the test set\n",
    "y_pred = modelrfr.predict(X_test)\n",
    "# Calculate R² Score\n",
    "r2 = r2_score(y_test, y_pred)\n",
    "print(f\"R² Score: {r2}\")"
   ]
  },
  {
   "cell_type": "code",
   "execution_count": null,
   "id": "2bb98272-8b57-4711-8792-07975a393814",
   "metadata": {},
   "outputs": [],
   "source": [
    "# Assuming 'model' is your trained model\n",
    "filename = 'RFR-model.pkl'\n",
    "\n",
    "# Save the model to disk\n",
    "with open(filename, 'wb') as file:\n",
    "    pickle.dump(modelrfr, file)\n",
    "\n",
    "from IPython.display import FileLink\n",
    "\n",
    "# Provide a link to download the file\n",
    "FileLink('RFR-model.pkl')\n"
   ]
  },
  {
   "cell_type": "code",
   "execution_count": null,
   "id": "6447add0-767c-4796-8158-9e0c88f165f4",
   "metadata": {},
   "outputs": [],
   "source": [
    "-----------------Time Bhetl tar----------------------------------"
   ]
  },
  {
   "cell_type": "code",
   "execution_count": null,
   "id": "2bb50c4c-a4d5-4800-8bc5-8d4b4bd5884d",
   "metadata": {},
   "outputs": [],
   "source": [
    "from sklearn.model_selection import GridSearchCV\n",
    "\n",
    "# Define the parameter grid\n",
    "param_grid = {\n",
    "    'n_estimators': [100, 200, 300],\n",
    "    'max_depth': [None, 10, 20, 30],\n",
    "    'min_samples_split': [2, 5, 10],\n",
    "    'min_samples_leaf': [1, 2, 4],\n",
    "    'bootstrap': [True, False]\n",
    "}\n",
    "\n",
    "# Initialize the grid search\n",
    "grid_search = GridSearchCV(RandomForestRegressor(), param_grid, cv=5, n_jobs=-1, verbose=2)\n",
    "\n",
    "# Fit the grid search\n",
    "grid_search.fit(X_train, y_train)\n",
    "\n",
    "# Best parameters and score\n",
    "print(\"Best Parameters:\", grid_search.best_params_)\n",
    "print(\"Best Score:\", grid_search.best_score_)\n",
    "\n",
    "# Use the best estimator to make predictions\n",
    "best_model = grid_search.best_estimator_\n",
    "y_pred_best = best_model.predict(X_test)\n",
    "\n",
    "# Evaluate the tuned model\n",
    "r2_best = r2_score(y_test, y_pred_best)\n",
    "print(f\"Tuned R² Score: {r2_best}\")\n"
   ]
  },
  {
   "cell_type": "code",
   "execution_count": null,
   "id": "3dab5d42-2085-4a56-bce7-b4fb6f24f22c",
   "metadata": {},
   "outputs": [],
   "source": [
    "#--------------------------------------------------------------------------"
   ]
  },
  {
   "cell_type": "code",
   "execution_count": null,
   "id": "e2a05842-93b3-4f17-91a8-f8d378ad8611",
   "metadata": {},
   "outputs": [],
   "source": [
    "#----------------------------KNN-Regressor----------------------------"
   ]
  },
  {
   "cell_type": "code",
   "execution_count": null,
   "id": "e029057e-94d6-4388-80cd-679b9a67a5fa",
   "metadata": {},
   "outputs": [],
   "source": [
    "# Initialize the KNN Regressor\n",
    "modelknn = KNeighborsRegressor(n_neighbors=5)\n",
    "\n",
    "# Train the model\n",
    "modelknn.fit(X_train, y_train)\n",
    "\n",
    "# Make predictions on the test set\n",
    "y_pred = modelknn.predict(X_test)\n",
    "\n",
    "# Calculate R² Score\n",
    "r2 = r2_score(y_test, y_pred)\n",
    "print(f\"R² Score: {r2}\")\n"
   ]
  },
  {
   "cell_type": "code",
   "execution_count": null,
   "id": "bb27e634-9b0c-4e9c-953d-5814e0f5b3f4",
   "metadata": {},
   "outputs": [],
   "source": [
    "# Assuming 'model' is your trained model\n",
    "filename = 'KNN-model.pkl'\n",
    "\n",
    "# Save the model to disk\n",
    "with open(filename, 'wb') as file:\n",
    "    pickle.dump(modelknn, file)\n",
    "\n",
    "from IPython.display import FileLink\n",
    "\n",
    "# Provide a link to download the file\n",
    "FileLink('KNN-model.pkl')\n"
   ]
  },
  {
   "cell_type": "code",
   "execution_count": null,
   "id": "8fd7ee74-c1f3-4149-9834-2a9ae797c784",
   "metadata": {},
   "outputs": [],
   "source": [
    "#-------------Time bhetl tar Hyper-parameter tuning---------------------------"
   ]
  },
  {
   "cell_type": "code",
   "execution_count": null,
   "id": "c56a95d3-4f24-4ff4-88a6-474a055463b8",
   "metadata": {},
   "outputs": [],
   "source": [
    "from sklearn.model_selection import GridSearchCV\n",
    "\n",
    "# Define the parameter grid\n",
    "param_grid = {\n",
    "    'n_neighbors': [3, 5, 7, 10],\n",
    "    'weights': ['uniform', 'distance'],  # 'uniform' means all neighbors are equally weighted, 'distance' weights by distance\n",
    "    'metric': ['euclidean', 'manhattan']\n",
    "}\n",
    "\n",
    "# Initialize the grid search\n",
    "grid_search = GridSearchCV(KNeighborsRegressor(), param_grid, cv=5, n_jobs=-1, verbose=2)\n",
    "\n",
    "# Fit the grid search\n",
    "grid_search.fit(X_train, y_train)\n",
    "\n",
    "# Best parameters and score\n",
    "print(\"Best Parameters:\", grid_search.best_params_)\n",
    "print(\"Best Score:\", grid_search.best_score_)\n",
    "\n",
    "# Use the best estimator to make predictions\n",
    "best_model = grid_search.best_estimator_\n",
    "y_pred_best = best_model.predict(X_test)\n",
    "\n",
    "# Evaluate the tuned model\n",
    "r2_best = r2_score(y_test, y_pred_best)\n",
    "print(f\"Tuned R² Score: {r2_best}\")\n"
   ]
  },
  {
   "cell_type": "code",
   "execution_count": null,
   "id": "279bdf41-f4a5-4b9c-b033-5858b4e582fe",
   "metadata": {},
   "outputs": [],
   "source": [
    "#---------------------------------------------------------------"
   ]
  },
  {
   "cell_type": "code",
   "execution_count": null,
   "id": "186689a1-8a28-462f-a7d1-b0839295b4e1",
   "metadata": {},
   "outputs": [],
   "source": [
    "#---------------Neural-Networks---------------------------------"
   ]
  },
  {
   "cell_type": "code",
   "execution_count": null,
   "id": "78c44453-9ac6-4d1a-80a9-1f25535d31ee",
   "metadata": {},
   "outputs": [],
   "source": [
    "# Define the model\n",
    "model = Sequential()\n",
    "\n",
    "# Input layer\n",
    "model.add(Dense(64, input_dim=X_train.shape[1], activation='relu'))\n",
    "model.add(Dropout(0.3))  # Dropout layer with 30% dropout rate\n",
    "\n",
    "# Hidden layers\n",
    "model.add(Dense(32, activation='relu'))\n",
    "model.add(Dropout(0.3))  # Dropout layer with 30% dropout rate\n",
    "\n",
    "model.add(Dense(16, activation='relu'))\n",
    "model.add(Dropout(0.3))  # Dropout layer with 30% dropout rate\n",
    "\n",
    "# Output layer\n",
    "model.add(Dense(1, activation='linear'))\n",
    "\n",
    "# Compile the model\n",
    "model.compile(optimizer=Adam(learning_rate=0.001), loss='mean_squared_error')\n"
   ]
  },
  {
   "cell_type": "code",
   "execution_count": null,
   "id": "22e20228-9cf0-4346-8eee-ecb89083e294",
   "metadata": {},
   "outputs": [],
   "source": [
    "early_stopping = EarlyStopping(monitor='val_loss', patience=10, restore_best_weights=True)\n",
    "\n",
    "# Train the model with EarlyStopping\n",
    "history = model.fit(X_train, y_train, epochs=100, batch_size=32, validation_split=0.2, verbose=1, callbacks=[early_stopping])\n",
    "\n",
    "# Evaluate the model\n",
    "loss = model.evaluate(X_test, y_test, verbose=0)\n",
    "print(f\"Test Loss: {loss}\")\n",
    "\n",
    "# Predicting and calculating R² score\n",
    "y_pred = model.predict(X_test)\n",
    "from sklearn.metrics import r2_score\n",
    "r2 = r2_score(y_test, y_pred)\n",
    "print(f\"R² Score: {r2}\")\n"
   ]
  },
  {
   "cell_type": "code",
   "execution_count": null,
   "id": "14ed68eb-7c3e-42e7-b309-6dffac2dadce",
   "metadata": {},
   "outputs": [],
   "source": []
  },
  {
   "cell_type": "code",
   "execution_count": null,
   "id": "acc0f60f-00ec-47da-8ced-be84985a4d91",
   "metadata": {},
   "outputs": [],
   "source": [
    "Paths=[\"E:/cdac/Project-End-Cdac-4Members/Models/XGBoost-model.pkl\",\"rfr-model.pkl\",\"\"]"
   ]
  },
  {
   "cell_type": "code",
   "execution_count": null,
   "id": "7071cc8c-e70c-4dd0-aa95-b6e16f5f7dcb",
   "metadata": {},
   "outputs": [],
   "source": []
  },
  {
   "cell_type": "code",
   "execution_count": null,
   "id": "b5d68093-4ea2-45ce-b52b-07f78d2eb5c2",
   "metadata": {},
   "outputs": [],
   "source": [
    "# Load the model\n",
    "loaded_model = joblib.load('E:/cdac/Project-End-Cdac-4Members/Models/XGBoost-model.pkl\",\"rfr-model.pkl')"
   ]
  },
  {
   "cell_type": "code",
   "execution_count": null,
   "id": "f17f7aa4-2ec0-4a88-bb55-19b1cfbb0a65",
   "metadata": {},
   "outputs": [],
   "source": [
    "#Give here the values you need\n",
    "new=np.array([1,4,1,40,117,15000,1,6,38,0,70435,23])\n",
    "# Reshape to 2D array (1 observation, 12 features)\n",
    "new_data= new.reshape(1,-1)\n",
    "# Make predictions and evaluate\n",
    "loaded_model.predict(new)"
   ]
  },
  {
   "cell_type": "code",
   "execution_count": null,
   "id": "8dfafc49-dab6-49c5-b3b7-8495f2e766a9",
   "metadata": {},
   "outputs": [],
   "source": [
    "#calculate Accuracy\n",
    "accuracy = accuracy_score(y_test, y_pred)\n",
    "print(f\"Accuracy: {accuracy:.2f}\")"
   ]
  }
 ],
 "metadata": {
  "kernelspec": {
   "display_name": "Python 3 (ipykernel)",
   "language": "python",
   "name": "python3"
  },
  "language_info": {
   "codemirror_mode": {
    "name": "ipython",
    "version": 3
   },
   "file_extension": ".py",
   "mimetype": "text/x-python",
   "name": "python",
   "nbconvert_exporter": "python",
   "pygments_lexer": "ipython3",
   "version": "3.11.7"
  }
 },
 "nbformat": 4,
 "nbformat_minor": 5
}
